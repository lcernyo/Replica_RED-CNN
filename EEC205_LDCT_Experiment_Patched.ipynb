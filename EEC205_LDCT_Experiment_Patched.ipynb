{
  "cells": [
    {
      "cell_type": "markdown",
      "metadata": {
        "id": "t_1UeZM1fu2R"
      },
      "source": [
        "Imports/Install -- Required Packages\n",
        "\n",
        "OBS: All code was written by Luca Cerny Oliveira unless especified as a comment"
      ]
    },
    {
      "cell_type": "code",
      "execution_count": 1,
      "metadata": {
        "colab": {
          "base_uri": "https://localhost:8080/"
        },
        "id": "dX8YtcpbGrcD",
        "outputId": "e732d8f2-e470-424d-c277-0136034ad22c"
      },
      "outputs": [
        {
          "output_type": "stream",
          "name": "stdout",
          "text": [
            "Mounted at /content/drive/\n"
          ]
        }
      ],
      "source": [
        "### Cell to link Notebook to Google Drive\n",
        "\n",
        "from google.colab import drive\n",
        "drive.mount('/content/drive/')"
      ]
    },
    {
      "cell_type": "code",
      "execution_count": 2,
      "metadata": {
        "colab": {
          "base_uri": "https://localhost:8080/"
        },
        "id": "LziB4SWkFwx0",
        "outputId": "361178aa-7351-4b8a-ec69-9ef318f11b6f"
      },
      "outputs": [
        {
          "output_type": "stream",
          "name": "stdout",
          "text": [
            "Collecting pydicom\n",
            "  Downloading pydicom-2.2.2-py3-none-any.whl (2.0 MB)\n",
            "\u001b[K     |████████████████████████████████| 2.0 MB 3.2 MB/s \n",
            "\u001b[?25hInstalling collected packages: pydicom\n",
            "Successfully installed pydicom-2.2.2\n"
          ]
        }
      ],
      "source": [
        "pip install pydicom"
      ]
    },
    {
      "cell_type": "code",
      "execution_count": 3,
      "metadata": {
        "colab": {
          "base_uri": "https://localhost:8080/"
        },
        "id": "1QGWx7nmS0WV",
        "outputId": "5f8412c2-c0e0-4ec5-d67c-8d3dd03fb980"
      },
      "outputs": [
        {
          "output_type": "stream",
          "name": "stdout",
          "text": [
            "Collecting pypng\n",
            "  Downloading pypng-0.0.21-py3-none-any.whl (48 kB)\n",
            "\u001b[?25l\r\u001b[K     |██████▉                         | 10 kB 21.1 MB/s eta 0:00:01\r\u001b[K     |█████████████▋                  | 20 kB 8.3 MB/s eta 0:00:01\r\u001b[K     |████████████████████▍           | 30 kB 5.9 MB/s eta 0:00:01\r\u001b[K     |███████████████████████████▎    | 40 kB 5.7 MB/s eta 0:00:01\r\u001b[K     |████████████████████████████████| 48 kB 1.9 MB/s \n",
            "\u001b[?25hInstalling collected packages: pypng\n",
            "Successfully installed pypng-0.0.21\n"
          ]
        }
      ],
      "source": [
        "pip install pypng"
      ]
    },
    {
      "cell_type": "code",
      "execution_count": 4,
      "metadata": {
        "id": "ojRmwBfKfueH"
      },
      "outputs": [],
      "source": [
        "# Core imports\n",
        "import os\n",
        "import pandas as pd\n",
        "import numpy as np\n",
        "import random\n",
        "\n",
        "# Imports for benchmarking/plotting\n",
        "import matplotlib.pyplot as plt\n",
        "import statistics\n",
        "import time \n",
        "\n",
        "# DataLoader\n",
        "from torch.utils.data import Dataset, DataLoader\n",
        "from torchvision import transforms, utils\n",
        "\n",
        "# Deep Learning\n",
        "import torch\n",
        "import torch.nn as nn\n",
        "import torchvision.transforms.functional as F\n",
        "from torch.optim.lr_scheduler import StepLR, ExponentialLR\n",
        "\n",
        "\n",
        "# .DIM to .PNG \n",
        "import pydicom\n",
        "import cv2\n",
        "import PIL\n",
        "import csv\n",
        "import png\n",
        "from skimage import io, transform\n",
        "from google.colab.patches import cv2_imshow"
      ]
    },
    {
      "cell_type": "markdown",
      "metadata": {
        "id": "E7uU2CB4ft1K"
      },
      "source": [
        "# **1st Part: Loading and Setting-up data**\n",
        "\n",
        "Loading data:\n",
        "*   Images will be Greyscale\n",
        "*   CT scans are 256x256 Images\n",
        "*   Patches are 55x55 Images\n",
        "\n",
        "\n",
        "\n",
        "\n",
        "\n"
      ]
    },
    {
      "cell_type": "code",
      "execution_count": null,
      "metadata": {
        "id": "g-uUDa3RE9iE"
      },
      "outputs": [],
      "source": [
        "#The below function NEEDS to be done separately so it does not have to convert from DICOM everytime\n",
        "def dcm_path_to_jpg(path,save_path):\n",
        "  ds = pydicom.read_file(path) # read dicom image\n",
        "  img = ds.pixel_array # get image array\n",
        "\n",
        "  ### this normalization expression for dicom to png was taken from\n",
        "  ### https://pycad.co/how-to-convert-a-dicom-image-into-jpg-or-png/\n",
        "  img = (np.maximum(img, 0) / img.max()) * 255.0\n",
        "\n",
        "  img = np.uint8(img)\n",
        "\n",
        "  cv2.imwrite(save_path,img) # write png image"
      ]
    },
    {
      "cell_type": "code",
      "execution_count": null,
      "metadata": {
        "colab": {
          "base_uri": "https://localhost:8080/"
        },
        "id": "XxaXYsgBF5Tp",
        "outputId": "d8b9be82-8a33-404d-8b3e-8f9226ac0d5b"
      },
      "outputs": [
        {
          "name": "stdout",
          "output_type": "stream",
          "text": [
            "R_004\n",
            "/content/drive/MyDrive/CT_Project/LungCT/R_004/06-30-1997-NA-Diagnostic Pre-Surgery Contrast Enhanced CT-71813/3.000000- NONE -29295/1-01.dcm\n",
            "/content/drive/MyDrive/CT_Project/LungCT/R_004/06-30-1997-NA-Diagnostic Pre-Surgery Contrast Enhanced CT-71813/3.000000- NONE -29295/1-02.dcm\n",
            "/content/drive/MyDrive/CT_Project/LungCT/R_004/06-30-1997-NA-Diagnostic Pre-Surgery Contrast Enhanced CT-71813/3.000000- NONE -29295/1-03.dcm\n",
            "/content/drive/MyDrive/CT_Project/LungCT/R_004/06-30-1997-NA-Diagnostic Pre-Surgery Contrast Enhanced CT-71813/3.000000- NONE -29295/1-04.dcm\n",
            "/content/drive/MyDrive/CT_Project/LungCT/R_004/06-30-1997-NA-Diagnostic Pre-Surgery Contrast Enhanced CT-71813/3.000000- NONE -29295/1-05.dcm\n",
            "/content/drive/MyDrive/CT_Project/LungCT/R_004/06-30-1997-NA-Diagnostic Pre-Surgery Contrast Enhanced CT-71813/3.000000- NONE -29295/1-06.dcm\n",
            "/content/drive/MyDrive/CT_Project/LungCT/R_004/06-30-1997-NA-Diagnostic Pre-Surgery Contrast Enhanced CT-71813/3.000000- NONE -29295/1-07.dcm\n",
            "/content/drive/MyDrive/CT_Project/LungCT/R_004/06-30-1997-NA-Diagnostic Pre-Surgery Contrast Enhanced CT-71813/3.000000- NONE -29295/1-08.dcm\n",
            "/content/drive/MyDrive/CT_Project/LungCT/R_004/06-30-1997-NA-Diagnostic Pre-Surgery Contrast Enhanced CT-71813/3.000000- NONE -29295/1-09.dcm\n"
          ]
        }
      ],
      "source": [
        "dicom_path = '/content/drive/MyDrive/CT_Project/LungCT/'\n",
        "save_path = '/content/drive/MyDrive/CT_Project/fixedCT/'\n",
        "\n",
        "for case in sorted(os.listdir(dicom_path)):\n",
        "  print(case) #make new directory on clean folder\n",
        "  subpath1 = dicom_path+case+'/'\n",
        "  save_folder = save_path + case + '/'\n",
        "  if not(os.path.isdir(save_folder)):\n",
        "    os.makedirs(save_folder)\n",
        "  subpath2 = subpath1 + os.listdir(subpath1)[0] + '/' # here is the information for pixel intensity (my guess)\n",
        "  subpath3 = subpath2 + os.listdir(subpath2)[0] + '/'\n",
        "  for dcm_img in sorted(os.listdir(subpath3)):\n",
        "    print(subpath3+dcm_img)\n",
        "    filename = dcm_img.split('.')[0]\n",
        "    dcm_file = subpath3 + dcm_img\n",
        "    save_file = save_folder + filename + '.png'\n",
        "    dcm_path_to_jpg(dcm_file, save_file)"
      ]
    },
    {
      "cell_type": "code",
      "execution_count": null,
      "metadata": {
        "id": "H9zTHNzA-9DK"
      },
      "outputs": [],
      "source": [
        "### Amount of cases available in dataset + case names:\n",
        "dataset_folder_path = '/content/drive/MyDrive/CT_Project/fixedCT/'\n",
        "\n",
        "sorted(os.listdir(dataset_folder_path))"
      ]
    },
    {
      "cell_type": "code",
      "execution_count": null,
      "metadata": {
        "id": "kb2nqKzXp1uy"
      },
      "outputs": [],
      "source": [
        "transform=transforms.Compose([transforms.Grayscale(num_output_channels=1),\n",
        "                              transforms.Resize(256),\n",
        "                              transforms.ToTensor()\n",
        "                              ])"
      ]
    },
    {
      "cell_type": "code",
      "execution_count": 5,
      "metadata": {
        "id": "apl95M8cfS-M"
      },
      "outputs": [],
      "source": [
        "class CT_Scan(Dataset):\n",
        "    \"\"\"Lung CT Scan Dataset\"\"\"\n",
        "\n",
        "    def __init__(self, path, cases, transform=None):\n",
        "        \"\"\"\n",
        "        Args:\n",
        "            path (string): Folder with all images separated by case\n",
        "            cases (string list): Cases that will be used\n",
        "            transform (callable, optional): Optional transform to be applied\n",
        "                on a sample.\n",
        "        \"\"\"\n",
        "        self.path = path\n",
        "        self.cases = cases\n",
        "        self.transform = transform\n",
        "\n",
        "        self.path_list = self.count_cases(self.path, self.cases)\n",
        "\n",
        "    def count_cases(self,path,cases):\n",
        "        #Parse through cases folders\n",
        "        path_list = []\n",
        "        for case in sorted(os.listdir(path)):\n",
        "          if case in cases:\n",
        "            for img_path in sorted(os.listdir(path + case + '/')):\n",
        "              path_list.append(path + case + '/'+img_path)\n",
        "\n",
        "        return path_list\n",
        "\n",
        "    def __len__(self):\n",
        "        return len(self.path_list)\n",
        "\n",
        "    def __getitem__(self, idx):\n",
        "        if torch.is_tensor(idx):\n",
        "            idx = idx.tolist()\n",
        "\n",
        "        #image = np.asarray(self.path_list[idx]).astype(np.uint8)\n",
        "\n",
        "        image = io.imread(self.path_list[idx])\n",
        "\n",
        "        noisy = image\n",
        "        noisy = np.random.poisson(noisy / 255.0 * 30) / 30 * 255  # noisy image\n",
        "\n",
        "        image = PIL.Image.fromarray(image)\n",
        "\n",
        "        noisy = PIL.Image.fromarray(noisy)\n",
        "\n",
        "        if self.transform:\n",
        "            image = self.transform(image)\n",
        "            noisy = self.transform(noisy)\n",
        "        \n",
        "        top = random.randrange(201)\n",
        "        left = random.randrange(201)\n",
        "\n",
        "        image = F.crop(image,top,left,55,55)\n",
        "        noisy = F.crop(noisy,top,left,55,55)\n",
        "        if random.random() > 0.5:\n",
        "          image = F.hflip(image)\n",
        "          noisy = F.hflip(noisy)\n",
        "        \n",
        "        if random.random() > 0.25:\n",
        "          image = F.vflip(image)\n",
        "          noisy = F.vflip(noisy)\n",
        "\n",
        "        sample = {'image': image, 'noisy': noisy}\n",
        "\n",
        "        return sample"
      ]
    },
    {
      "cell_type": "code",
      "execution_count": null,
      "metadata": {
        "id": "yG6EbiOCjOvR"
      },
      "outputs": [],
      "source": [
        "LungDataset = CT_Scan(path = '/content/drive/MyDrive/CT_Project/fixedCT/', cases = ['R_259'], transform = transform)"
      ]
    },
    {
      "cell_type": "code",
      "execution_count": null,
      "metadata": {
        "colab": {
          "base_uri": "https://localhost:8080/",
          "height": 406
        },
        "id": "oJY2sZuvYXoG",
        "outputId": "388ca071-b30b-4426-ef60-b372f442fb66"
      },
      "outputs": [
        {
          "output_type": "stream",
          "name": "stdout",
          "text": [
            "torch.Size([1, 55, 55])\n",
            "tensor([[[0.2471, 0.2157, 0.1765,  ..., 0.4941, 0.5176, 0.5255],\n",
            "         [0.2510, 0.2078, 0.1686,  ..., 0.5059, 0.5176, 0.5216],\n",
            "         [0.2510, 0.2078, 0.1608,  ..., 0.5137, 0.5176, 0.5294],\n",
            "         ...,\n",
            "         [0.4235, 0.4275, 0.4275,  ..., 0.3961, 0.4000, 0.3922],\n",
            "         [0.4078, 0.4118, 0.4118,  ..., 0.3922, 0.3922, 0.3961],\n",
            "         [0.3961, 0.3961, 0.4000,  ..., 0.4039, 0.4039, 0.4118]]])\n"
          ]
        },
        {
          "output_type": "display_data",
          "data": {
            "text/plain": [
              "<Figure size 432x288 with 1 Axes>"
            ],
            "image/png": "[encoded data removed]"
          },
          "metadata": {
            "needs_background": "light"
          }
        }
      ],
      "source": [
        "for idx in range(len(LungDataset)):\n",
        "  sample_data = LungDataset[idx]\n",
        "  sample_img, sample_noisy = sample_data['image'], sample_data['noisy']\n",
        "\n",
        "  if idx == 7:\n",
        "    print(sample_img.size())\n",
        "    print(sample_img)\n",
        "    plt.imshow(sample_img[0],cmap='gray',vmin=0,vmax=1)\n",
        "    break"
      ]
    },
    {
      "cell_type": "code",
      "execution_count": null,
      "metadata": {
        "colab": {
          "base_uri": "https://localhost:8080/",
          "height": 423
        },
        "id": "TRTRg1vfjZ0T",
        "outputId": "ca6914f4-b12b-46c8-b87c-28f7bf2d7968"
      },
      "outputs": [
        {
          "output_type": "stream",
          "name": "stdout",
          "text": [
            "torch.Size([1, 55, 55])\n",
            "tensor([[[0.2000, 0.1843, 0.1882,  ..., 0.4078, 0.4549, 0.5098],\n",
            "         [0.2392, 0.1843, 0.1843,  ..., 0.5137, 0.4980, 0.5569],\n",
            "         [0.2627, 0.2235, 0.2000,  ..., 0.4588, 0.4706, 0.5098],\n",
            "         ...,\n",
            "         [0.4588, 0.4392, 0.4431,  ..., 0.3922, 0.3608, 0.4118],\n",
            "         [0.4314, 0.3961, 0.4078,  ..., 0.3294, 0.3765, 0.3804],\n",
            "         [0.3216, 0.3843, 0.4392,  ..., 0.3804, 0.3843, 0.3922]]])\n"
          ]
        },
        {
          "output_type": "execute_result",
          "data": {
            "text/plain": [
              "<matplotlib.image.AxesImage at 0x7f558e4e09d0>"
            ]
          },
          "metadata": {},
          "execution_count": 42
        },
        {
          "output_type": "display_data",
          "data": {
            "text/plain": [
              "<Figure size 432x288 with 1 Axes>"
            ],
            "image/png": "[encoded data removed]"
          },
          "metadata": {
            "needs_background": "light"
          }
        }
      ],
      "source": [
        "print(sample_noisy.size())\n",
        "print(sample_noisy)\n",
        "plt.imshow(sample_noisy[0],cmap='gray',vmin=0,vmax=1)"
      ]
    },
    {
      "cell_type": "code",
      "execution_count": null,
      "metadata": {
        "id": "yvLfHa15eGBk"
      },
      "outputs": [],
      "source": [
        "ctloader = DataLoader(LungDataset, batch_size = 50, suffle = True, num_workers=0, drop_last = False)"
      ]
    },
    {
      "cell_type": "markdown",
      "metadata": {
        "id": "g2R5UTIQjPbq"
      },
      "source": [
        "# **2nd Part: Model, Fit and Evaluation Function Design** "
      ]
    },
    {
      "cell_type": "code",
      "execution_count": 6,
      "metadata": {
        "id": "BQmuDs5Qnyxf"
      },
      "outputs": [],
      "source": [
        "class DNN(nn.Module):\n",
        "  def __init__(self):\n",
        "    super(DNN, self).__init__()\n",
        "    self.relu = nn.ReLU()\n",
        "\n",
        "    self.conv1 = nn.Conv2d(1, 64, kernel_size=5)\n",
        "    self.bn1 = nn.BatchNorm2d(64)\n",
        "    self.conv2 = nn.Conv2d(64, 128, kernel_size=5)\n",
        "    self.bn2 = nn.BatchNorm2d(128)\n",
        "    self.conv3 = nn.Conv2d(128, 256, kernel_size=5)\n",
        "    self.bn3 = nn.BatchNorm2d(256)\n",
        "    self.conv4 = nn.Conv2d(256, 512, kernel_size=5)\n",
        "    self.bn4 = nn.BatchNorm2d(512)\n",
        "    self.conv5 = nn.Conv2d(512, 1024, kernel_size=5)\n",
        "    self.bn5 = nn.BatchNorm2d(1024)\n",
        "\n",
        "    self.deconv1 = nn.ConvTranspose2d(1024, 512, kernel_size=5)\n",
        "    self.bn6 = nn.BatchNorm2d(512)\n",
        "    self.deconv2 = nn.ConvTranspose2d(512, 256, kernel_size=5)\n",
        "    self.bn7 = nn.BatchNorm2d(256)\n",
        "    self.deconv3 = nn.ConvTranspose2d(256, 128, kernel_size=5)\n",
        "    self.bn8 = nn.BatchNorm2d(128)\n",
        "    self.deconv4 = nn.ConvTranspose2d(128, 64, kernel_size=5)\n",
        "    self.bn9 = nn.BatchNorm2d(64)\n",
        "    self.deconv5 = nn.ConvTranspose2d(64, 1, kernel_size=5)\n",
        "  \n",
        "  def forward(self,x):\n",
        "    r1 = x\n",
        "    out = self.conv1(x)\n",
        "    out = self.relu(out)\n",
        "    out = self.bn1(out)\n",
        "\n",
        "    out = self.conv2(out)\n",
        "    out = self.relu(out)\n",
        "    out = self.bn2(out)\n",
        "\n",
        "    r2 = out\n",
        "    out = self.conv3(out)\n",
        "    out = self.relu(out)\n",
        "    out = self.bn3(out)\n",
        "\n",
        "    out = self.conv4(out)\n",
        "    out = self.relu(out)\n",
        "    out = self.bn4(out)\n",
        "\n",
        "    r3 = out\n",
        "    out = self.conv5(out)\n",
        "    out = self.relu(out)\n",
        "    out = self.bn5(out)\n",
        "\n",
        "\n",
        "    out = self.deconv1(out)\n",
        "    out = out + r3\n",
        "    out = self.relu(out)\n",
        "    out = self.bn6(out)\n",
        "\n",
        "    out = self.deconv2(out)\n",
        "    out = self.relu(out)\n",
        "    out = self.bn7(out)\n",
        "    \n",
        "    out = self.deconv3(out)\n",
        "    out = out + r2\n",
        "    out = self.relu(out)\n",
        "    out = self.bn8(out)\n",
        "\n",
        "    out = self.deconv4(out)\n",
        "    out = self.relu(out)\n",
        "    out = self.bn9(out)\n",
        "\n",
        "    out = self.deconv5(out)\n",
        "    out = out + r1\n",
        "    out = self.relu(out)\n",
        "\n",
        "    return out\n"
      ]
    },
    {
      "cell_type": "code",
      "execution_count": 7,
      "metadata": {
        "id": "3ziRH5rPkVTB"
      },
      "outputs": [],
      "source": [
        "def randomInit(m):\n",
        "  print(\"Model Randomly Initialized\")\n",
        "  if isinstance(m, nn.Linear):\n",
        "    torch.nn.init.xavier_uniform_(m.weight)\n",
        "    torch.nn.init.zeros_(m.bias)\n",
        "\n",
        "\n",
        "def fit(model, loss_fn, optimizer, train_loader, batch_size, num_epochs, stat_count = 100,device = None, PATH = '/content/drive/MyDrive/CT_Project/model.pt'):\n",
        "  if device is not None:\n",
        "    model.to(device)\n",
        "  else:\n",
        "    device = torch.device('cuda:0' if torch.cuda.is_available() else 'cpu')\n",
        "    model.to(device)\n",
        "\n",
        "  randomInit(model)\n",
        "\n",
        "  scheduler = ExponentialLR(optimizer, gamma=0.99)\n",
        "\n",
        "  epoch_loss = []\n",
        "  train_acc = []\n",
        "\n",
        "  for epoch in range(num_epochs):\n",
        "    if epoch != 0:\n",
        "      mse_eval = []\n",
        "      scheduler.step()\n",
        "      epoch_loss.append(loss.item())\n",
        "      print(\"End of epoch\")\n",
        "      for train_data in train_loader:\n",
        "        with torch.no_grad():\n",
        "          model.eval()\n",
        "          trainimg, trainnsy = train_data['image'].cuda(), train_data['noisy'].cuda()\n",
        "          trainoutputs = model(trainnsy)\n",
        "          mse = loss_fn(trainoutputs, trainimg).item()\n",
        "          mse_eval.append(mse)\n",
        "      if statistics.mean(mse_eval) < model_score or epoch == 50:\n",
        "        print(\"Score of \", mse, \"is the best yet. Saving model ...\")\n",
        "        model_score = mse\n",
        "        torch.save({'model_state_dict': model.state_dict()}, PATH)\n",
        "      train_acc.append(mse)\n",
        "    else:\n",
        "      model_score = 100000 \n",
        "    for i, data in enumerate(train_loader, 0):\n",
        "      with torch.enable_grad():\n",
        "        model.train()\n",
        "        images, noisy = data['image'].cuda(), data['noisy'].cuda()\n",
        "        optimizer.zero_grad()\n",
        "\n",
        "        outputs = model(noisy)\n",
        "\n",
        "        loss = loss_fn(outputs, images)\n",
        "\n",
        "        loss.backward()\n",
        "        optimizer.step()\n",
        "\n",
        "        if (i+1) % stat_count == 0:\n",
        "          print('Epoch [%d/%d], Step [%d/%d], Loss: %.4f'%(epoch+1, num_epochs, i+1, len(train_loader), loss.item()))\n",
        "\n",
        "  return epoch_loss, train_acc\n",
        "\n",
        "    \n",
        "          \n",
        "\n",
        "def test(model, test_loader, loss_fn,  batch_size = 1, sample_idx = 0, device = None, PATH = '/content/drive/MyDrive/CT_Project/model.pt'):\n",
        "  checkpoint = torch.load(PATH)\n",
        "  model.load_state_dict(checkpoint['model_state_dict'])\n",
        "  if device is not None:\n",
        "    model.to(device)\n",
        "  else:\n",
        "    device = torch.device('cuda:0' if torch.cuda.is_available() else 'cpu')\n",
        "    model.to(device)\n",
        "\n",
        "  ct = 0\n",
        "  mse_list = []\n",
        "  mse_noisy = []\n",
        "  with torch.no_grad():\n",
        "    model.eval()\n",
        "    for test_data in test_loader:\n",
        "      images, noisy = test_data['image'].cuda(), test_data['noisy'].cuda()\n",
        "\n",
        "      outputs = model(noisy)\n",
        "\n",
        "      mse_obj = loss_fn(outputs, images)\n",
        "      mse = mse_obj.item()\n",
        "      mse_list.append(mse)\n",
        "\n",
        "      mse_n_obj = loss_fn(noisy, images)\n",
        "      mse_n = mse_n_obj.item()\n",
        "      mse_noisy.append(mse_n)\n",
        "\n",
        "      if ct == sample_idx:\n",
        "        denoised = outputs\n",
        "        LDCT = noisy\n",
        "        image = images\n",
        "\n",
        "      ct += 1\n",
        "\n",
        "  print(\"Average MSE Loss = \", statistics.mean(mse_list))\n",
        "\n",
        "  return mse_list, mse_noisy, denoised, LDCT, image"
      ]
    },
    {
      "cell_type": "markdown",
      "metadata": {
        "id": "U6kpc96X9xaE"
      },
      "source": [
        "# **3rd Part: Inference**"
      ]
    },
    {
      "cell_type": "code",
      "execution_count": 8,
      "metadata": {
        "id": "m1zZUZc2-HZ8"
      },
      "outputs": [],
      "source": [
        "num_epochs = 60\n",
        "batch_size = 50\n",
        "\n",
        "\n",
        "model = DNN()\n",
        "optimizer = torch.optim.Adam(model.parameters(), lr=1e-3)\n",
        "loss_fn = nn.MSELoss()"
      ]
    },
    {
      "cell_type": "code",
      "execution_count": 9,
      "metadata": {
        "id": "2sjV8aWR-o2E"
      },
      "outputs": [],
      "source": [
        "transform=transforms.Compose([transforms.Grayscale(num_output_channels=1),\n",
        "                              transforms.Resize(256),\n",
        "                              transforms.ToTensor()\n",
        "                              ])\n",
        "\n",
        "\n",
        "cases_to_train = ['R_004','R_006','R_013','R_014','R_019','R_020','R_022','R_029','R_033','R_035','R_036','R_043','R_053','R_056','R_061','R_064','R_065','R_066','R_069','R_075','R_077','R_078',\n",
        " 'R_093','R_098','R_102','R_108','R_111','R_116','R_117','R_124','R_126','R_127','R_137','R_141','R_143','R_146','R_150','R_157','R_168','R_170','R_172','R_175','R_180','R_185','R_191','R_193',\n",
        " 'R_208','R_209','R_210','R_214','R_232','R_233','R_237','R_239','R_256','R_266','R_267','R_273','R_274']\n",
        "\n",
        "cases_to_test = ['R_144', 'R_259']\n",
        "\n",
        "for case in cases_to_test:\n",
        "  if case in cases_to_train:\n",
        "    print(case)\n",
        "    print(\"!!!DO NOT PROCEED!!!\")\n",
        "    print(\"Scans from the hold-out test set leaked into the train set. Reselect cases\")\n",
        "\n",
        "LungDataset = CT_Scan(path = '/content/drive/MyDrive/CT_Project/fixedCT/', cases = cases_to_train, transform = transform)\n",
        "\n",
        "TestCase = CT_Scan(path = '/content/drive/MyDrive/CT_Project/fixedCT/', cases = cases_to_test, transform = transform)\n",
        "\n",
        "train_loader = DataLoader(LungDataset, batch_size = batch_size, shuffle = True, drop_last = True)\n",
        "\n",
        "test_loader = DataLoader(TestCase, batch_size = 1, shuffle = False, drop_last = True)"
      ]
    },
    {
      "cell_type": "code",
      "execution_count": 10,
      "metadata": {
        "colab": {
          "base_uri": "https://localhost:8080/"
        },
        "id": "a_M6-mQhBG6Q",
        "outputId": "154e1241-6b9c-4b51-fc73-0baea9ac1939"
      },
      "outputs": [
        {
          "output_type": "execute_result",
          "data": {
            "text/plain": [
              "DNN(\n",
              "  (relu): ReLU()\n",
              "  (conv1): Conv2d(1, 64, kernel_size=(5, 5), stride=(1, 1))\n",
              "  (bn1): BatchNorm2d(64, eps=1e-05, momentum=0.1, affine=True, track_running_stats=True)\n",
              "  (conv2): Conv2d(64, 128, kernel_size=(5, 5), stride=(1, 1))\n",
              "  (bn2): BatchNorm2d(128, eps=1e-05, momentum=0.1, affine=True, track_running_stats=True)\n",
              "  (conv3): Conv2d(128, 256, kernel_size=(5, 5), stride=(1, 1))\n",
              "  (bn3): BatchNorm2d(256, eps=1e-05, momentum=0.1, affine=True, track_running_stats=True)\n",
              "  (conv4): Conv2d(256, 512, kernel_size=(5, 5), stride=(1, 1))\n",
              "  (bn4): BatchNorm2d(512, eps=1e-05, momentum=0.1, affine=True, track_running_stats=True)\n",
              "  (conv5): Conv2d(512, 1024, kernel_size=(5, 5), stride=(1, 1))\n",
              "  (bn5): BatchNorm2d(1024, eps=1e-05, momentum=0.1, affine=True, track_running_stats=True)\n",
              "  (deconv1): ConvTranspose2d(1024, 512, kernel_size=(5, 5), stride=(1, 1))\n",
              "  (bn6): BatchNorm2d(512, eps=1e-05, momentum=0.1, affine=True, track_running_stats=True)\n",
              "  (deconv2): ConvTranspose2d(512, 256, kernel_size=(5, 5), stride=(1, 1))\n",
              "  (bn7): BatchNorm2d(256, eps=1e-05, momentum=0.1, affine=True, track_running_stats=True)\n",
              "  (deconv3): ConvTranspose2d(256, 128, kernel_size=(5, 5), stride=(1, 1))\n",
              "  (bn8): BatchNorm2d(128, eps=1e-05, momentum=0.1, affine=True, track_running_stats=True)\n",
              "  (deconv4): ConvTranspose2d(128, 64, kernel_size=(5, 5), stride=(1, 1))\n",
              "  (bn9): BatchNorm2d(64, eps=1e-05, momentum=0.1, affine=True, track_running_stats=True)\n",
              "  (deconv5): ConvTranspose2d(64, 1, kernel_size=(5, 5), stride=(1, 1))\n",
              ")"
            ]
          },
          "metadata": {},
          "execution_count": 10
        }
      ],
      "source": [
        "device = torch.device('cuda:0' if torch.cuda.is_available() else 'cpu')\n",
        "model.to(device)"
      ]
    },
    {
      "cell_type": "code",
      "execution_count": 14,
      "metadata": {
        "colab": {
          "base_uri": "https://localhost:8080/"
        },
        "id": "EopotpbN91J7",
        "outputId": "493f8e80-d9d7-4ea5-d06c-a81247f90d06"
      },
      "outputs": [
        {
          "output_type": "stream",
          "name": "stdout",
          "text": [
            "Model Randomly Initialized\n",
            "Epoch [1/60], Step [5/90], Loss: 11.2450\n",
            "Epoch [1/60], Step [10/90], Loss: 1.9684\n",
            "Epoch [1/60], Step [15/90], Loss: 0.9079\n",
            "Epoch [1/60], Step [20/90], Loss: 0.4481\n",
            "Epoch [1/60], Step [25/90], Loss: 0.2580\n",
            "Epoch [1/60], Step [30/90], Loss: 0.2545\n",
            "Epoch [1/60], Step [35/90], Loss: 0.1954\n",
            "Epoch [1/60], Step [40/90], Loss: 0.1413\n",
            "Epoch [1/60], Step [45/90], Loss: 0.1127\n",
            "Epoch [1/60], Step [50/90], Loss: 0.1014\n",
            "Epoch [1/60], Step [55/90], Loss: 0.0901\n",
            "Epoch [1/60], Step [60/90], Loss: 0.0744\n",
            "Epoch [1/60], Step [65/90], Loss: 0.0751\n",
            "Epoch [1/60], Step [70/90], Loss: 0.0800\n",
            "Epoch [1/60], Step [75/90], Loss: 0.0707\n",
            "Epoch [1/60], Step [80/90], Loss: 0.0649\n",
            "Epoch [1/60], Step [85/90], Loss: 0.0623\n",
            "Epoch [1/60], Step [90/90], Loss: 0.0617\n",
            "End of epoch\n",
            "Score of  0.060634009540081024 is the best yet. Saving model ...\n",
            "Epoch [2/60], Step [5/90], Loss: 0.0745\n",
            "Epoch [2/60], Step [10/90], Loss: 0.0519\n",
            "Epoch [2/60], Step [15/90], Loss: 0.0491\n",
            "Epoch [2/60], Step [20/90], Loss: 0.0561\n",
            "Epoch [2/60], Step [25/90], Loss: 0.0647\n",
            "Epoch [2/60], Step [30/90], Loss: 0.0480\n",
            "Epoch [2/60], Step [35/90], Loss: 0.0476\n",
            "Epoch [2/60], Step [40/90], Loss: 0.0530\n",
            "Epoch [2/60], Step [45/90], Loss: 0.0510\n",
            "Epoch [2/60], Step [50/90], Loss: 0.0493\n",
            "Epoch [2/60], Step [55/90], Loss: 0.0407\n",
            "Epoch [2/60], Step [60/90], Loss: 0.0406\n",
            "Epoch [2/60], Step [65/90], Loss: 0.0549\n",
            "Epoch [2/60], Step [70/90], Loss: 0.0459\n",
            "Epoch [2/60], Step [75/90], Loss: 0.0463\n",
            "Epoch [2/60], Step [80/90], Loss: 0.0394\n",
            "Epoch [2/60], Step [85/90], Loss: 0.0435\n",
            "Epoch [2/60], Step [90/90], Loss: 0.0462\n",
            "End of epoch\n",
            "Score of  0.038286928087472916 is the best yet. Saving model ...\n",
            "Epoch [3/60], Step [5/90], Loss: 0.0480\n",
            "Epoch [3/60], Step [10/90], Loss: 0.0472\n",
            "Epoch [3/60], Step [15/90], Loss: 0.0420\n",
            "Epoch [3/60], Step [20/90], Loss: 0.0386\n",
            "Epoch [3/60], Step [25/90], Loss: 0.0415\n",
            "Epoch [3/60], Step [30/90], Loss: 0.0363\n",
            "Epoch [3/60], Step [35/90], Loss: 0.0452\n",
            "Epoch [3/60], Step [40/90], Loss: 0.0377\n",
            "Epoch [3/60], Step [45/90], Loss: 0.0395\n",
            "Epoch [3/60], Step [50/90], Loss: 0.0387\n",
            "Epoch [3/60], Step [55/90], Loss: 0.0431\n",
            "Epoch [3/60], Step [60/90], Loss: 0.0427\n",
            "Epoch [3/60], Step [65/90], Loss: 0.0374\n",
            "Epoch [3/60], Step [70/90], Loss: 0.0395\n",
            "Epoch [3/60], Step [75/90], Loss: 0.0383\n",
            "Epoch [3/60], Step [80/90], Loss: 0.0401\n",
            "Epoch [3/60], Step [85/90], Loss: 0.0418\n",
            "Epoch [3/60], Step [90/90], Loss: 0.0396\n",
            "End of epoch\n",
            "Score of  0.03737140819430351 is the best yet. Saving model ...\n",
            "Epoch [4/60], Step [5/90], Loss: 0.0426\n",
            "Epoch [4/60], Step [10/90], Loss: 0.0382\n",
            "Epoch [4/60], Step [15/90], Loss: 0.0451\n",
            "Epoch [4/60], Step [20/90], Loss: 0.0318\n",
            "Epoch [4/60], Step [25/90], Loss: 0.0318\n",
            "Epoch [4/60], Step [30/90], Loss: 0.0354\n",
            "Epoch [4/60], Step [35/90], Loss: 0.0322\n",
            "Epoch [4/60], Step [40/90], Loss: 0.0353\n",
            "Epoch [4/60], Step [45/90], Loss: 0.0447\n",
            "Epoch [4/60], Step [50/90], Loss: 0.0325\n",
            "Epoch [4/60], Step [55/90], Loss: 0.0275\n",
            "Epoch [4/60], Step [60/90], Loss: 0.0311\n",
            "Epoch [4/60], Step [65/90], Loss: 0.0280\n",
            "Epoch [4/60], Step [70/90], Loss: 0.0309\n",
            "Epoch [4/60], Step [75/90], Loss: 0.0426\n",
            "Epoch [4/60], Step [80/90], Loss: 0.0310\n",
            "Epoch [4/60], Step [85/90], Loss: 0.0307\n",
            "Epoch [4/60], Step [90/90], Loss: 0.0311\n",
            "End of epoch\n",
            "Score of  0.032112106680870056 is the best yet. Saving model ...\n",
            "Epoch [5/60], Step [5/90], Loss: 0.0332\n",
            "Epoch [5/60], Step [10/90], Loss: 0.0291\n",
            "Epoch [5/60], Step [15/90], Loss: 0.0258\n",
            "Epoch [5/60], Step [20/90], Loss: 0.0319\n",
            "Epoch [5/60], Step [25/90], Loss: 0.0343\n",
            "Epoch [5/60], Step [30/90], Loss: 0.0309\n",
            "Epoch [5/60], Step [35/90], Loss: 0.0304\n",
            "Epoch [5/60], Step [40/90], Loss: 0.0270\n",
            "Epoch [5/60], Step [45/90], Loss: 0.0329\n",
            "Epoch [5/60], Step [50/90], Loss: 0.0472\n",
            "Epoch [5/60], Step [55/90], Loss: 0.0309\n",
            "Epoch [5/60], Step [60/90], Loss: 0.0300\n",
            "Epoch [5/60], Step [65/90], Loss: 0.0273\n",
            "Epoch [5/60], Step [70/90], Loss: 0.0353\n",
            "Epoch [5/60], Step [75/90], Loss: 0.0355\n",
            "Epoch [5/60], Step [80/90], Loss: 0.0279\n",
            "Epoch [5/60], Step [85/90], Loss: 0.0263\n",
            "Epoch [5/60], Step [90/90], Loss: 0.0246\n",
            "End of epoch\n",
            "Score of  0.029492264613509178 is the best yet. Saving model ...\n",
            "Epoch [6/60], Step [5/90], Loss: 0.0258\n",
            "Epoch [6/60], Step [10/90], Loss: 0.0270\n",
            "Epoch [6/60], Step [15/90], Loss: 0.0275\n",
            "Epoch [6/60], Step [20/90], Loss: 0.0233\n",
            "Epoch [6/60], Step [25/90], Loss: 0.0299\n",
            "Epoch [6/60], Step [30/90], Loss: 0.0290\n",
            "Epoch [6/60], Step [35/90], Loss: 0.0278\n",
            "Epoch [6/60], Step [40/90], Loss: 0.0288\n",
            "Epoch [6/60], Step [45/90], Loss: 0.0322\n",
            "Epoch [6/60], Step [50/90], Loss: 0.0325\n",
            "Epoch [6/60], Step [55/90], Loss: 0.0296\n",
            "Epoch [6/60], Step [60/90], Loss: 0.0270\n",
            "Epoch [6/60], Step [65/90], Loss: 0.0257\n",
            "Epoch [6/60], Step [70/90], Loss: 0.0348\n",
            "Epoch [6/60], Step [75/90], Loss: 0.0297\n",
            "Epoch [6/60], Step [80/90], Loss: 0.0231\n",
            "Epoch [6/60], Step [85/90], Loss: 0.0292\n",
            "Epoch [6/60], Step [90/90], Loss: 0.0399\n",
            "End of epoch\n",
            "Score of  0.024144358932971954 is the best yet. Saving model ...\n",
            "Epoch [7/60], Step [5/90], Loss: 0.0248\n",
            "Epoch [7/60], Step [10/90], Loss: 0.0263\n",
            "Epoch [7/60], Step [15/90], Loss: 0.0250\n",
            "Epoch [7/60], Step [20/90], Loss: 0.0262\n",
            "Epoch [7/60], Step [25/90], Loss: 0.0257\n",
            "Epoch [7/60], Step [30/90], Loss: 0.0299\n",
            "Epoch [7/60], Step [35/90], Loss: 0.0258\n",
            "Epoch [7/60], Step [40/90], Loss: 0.0290\n",
            "Epoch [7/60], Step [45/90], Loss: 0.0264\n",
            "Epoch [7/60], Step [50/90], Loss: 0.0271\n",
            "Epoch [7/60], Step [55/90], Loss: 0.0256\n",
            "Epoch [7/60], Step [60/90], Loss: 0.0295\n",
            "Epoch [7/60], Step [65/90], Loss: 0.0286\n",
            "Epoch [7/60], Step [70/90], Loss: 0.0268\n",
            "Epoch [7/60], Step [75/90], Loss: 0.0283\n",
            "Epoch [7/60], Step [80/90], Loss: 0.0280\n",
            "Epoch [7/60], Step [85/90], Loss: 0.0258\n",
            "Epoch [7/60], Step [90/90], Loss: 0.0320\n",
            "End of epoch\n",
            "Epoch [8/60], Step [5/90], Loss: 0.0254\n",
            "Epoch [8/60], Step [10/90], Loss: 0.0225\n",
            "Epoch [8/60], Step [15/90], Loss: 0.0294\n",
            "Epoch [8/60], Step [20/90], Loss: 0.0276\n",
            "Epoch [8/60], Step [25/90], Loss: 0.0275\n",
            "Epoch [8/60], Step [30/90], Loss: 0.0275\n",
            "Epoch [8/60], Step [35/90], Loss: 0.0267\n",
            "Epoch [8/60], Step [40/90], Loss: 0.0256\n",
            "Epoch [8/60], Step [45/90], Loss: 0.0273\n",
            "Epoch [8/60], Step [50/90], Loss: 0.0283\n",
            "Epoch [8/60], Step [55/90], Loss: 0.0322\n",
            "Epoch [8/60], Step [60/90], Loss: 0.0289\n",
            "Epoch [8/60], Step [65/90], Loss: 0.0225\n",
            "Epoch [8/60], Step [70/90], Loss: 0.0259\n",
            "Epoch [8/60], Step [75/90], Loss: 0.0216\n",
            "Epoch [8/60], Step [80/90], Loss: 0.0275\n",
            "Epoch [8/60], Step [85/90], Loss: 0.0241\n",
            "Epoch [8/60], Step [90/90], Loss: 0.0256\n",
            "End of epoch\n",
            "Epoch [9/60], Step [5/90], Loss: 0.0236\n",
            "Epoch [9/60], Step [10/90], Loss: 0.0241\n",
            "Epoch [9/60], Step [15/90], Loss: 0.0255\n",
            "Epoch [9/60], Step [20/90], Loss: 0.0237\n",
            "Epoch [9/60], Step [25/90], Loss: 0.0252\n",
            "Epoch [9/60], Step [30/90], Loss: 0.0242\n",
            "Epoch [9/60], Step [35/90], Loss: 0.0244\n",
            "Epoch [9/60], Step [40/90], Loss: 0.0260\n",
            "Epoch [9/60], Step [45/90], Loss: 0.0265\n",
            "Epoch [9/60], Step [50/90], Loss: 0.0296\n",
            "Epoch [9/60], Step [55/90], Loss: 0.0224\n",
            "Epoch [9/60], Step [60/90], Loss: 0.0229\n",
            "Epoch [9/60], Step [65/90], Loss: 0.0304\n",
            "Epoch [9/60], Step [70/90], Loss: 0.0242\n",
            "Epoch [9/60], Step [75/90], Loss: 0.0233\n",
            "Epoch [9/60], Step [80/90], Loss: 0.0231\n",
            "Epoch [9/60], Step [85/90], Loss: 0.0232\n",
            "Epoch [9/60], Step [90/90], Loss: 0.0261\n",
            "End of epoch\n",
            "Score of  0.02207890711724758 is the best yet. Saving model ...\n",
            "Epoch [10/60], Step [5/90], Loss: 0.0232\n",
            "Epoch [10/60], Step [10/90], Loss: 0.0222\n",
            "Epoch [10/60], Step [15/90], Loss: 0.0227\n",
            "Epoch [10/60], Step [20/90], Loss: 0.0230\n",
            "Epoch [10/60], Step [25/90], Loss: 0.0222\n",
            "Epoch [10/60], Step [30/90], Loss: 0.0225\n",
            "Epoch [10/60], Step [35/90], Loss: 0.0214\n",
            "Epoch [10/60], Step [40/90], Loss: 0.0186\n",
            "Epoch [10/60], Step [45/90], Loss: 0.0231\n",
            "Epoch [10/60], Step [50/90], Loss: 0.0219\n",
            "Epoch [10/60], Step [55/90], Loss: 0.0212\n",
            "Epoch [10/60], Step [60/90], Loss: 0.0237\n",
            "Epoch [10/60], Step [65/90], Loss: 0.0201\n",
            "Epoch [10/60], Step [70/90], Loss: 0.0210\n",
            "Epoch [10/60], Step [75/90], Loss: 0.0234\n",
            "Epoch [10/60], Step [80/90], Loss: 0.0221\n",
            "Epoch [10/60], Step [85/90], Loss: 0.0236\n",
            "Epoch [10/60], Step [90/90], Loss: 0.0247\n",
            "End of epoch\n",
            "Epoch [11/60], Step [5/90], Loss: 0.0275\n",
            "Epoch [11/60], Step [10/90], Loss: 0.0181\n",
            "Epoch [11/60], Step [15/90], Loss: 0.0248\n",
            "Epoch [11/60], Step [20/90], Loss: 0.0218\n",
            "Epoch [11/60], Step [25/90], Loss: 0.0266\n",
            "Epoch [11/60], Step [30/90], Loss: 0.0214\n",
            "Epoch [11/60], Step [35/90], Loss: 0.0204\n",
            "Epoch [11/60], Step [40/90], Loss: 0.0203\n",
            "Epoch [11/60], Step [45/90], Loss: 0.0223\n",
            "Epoch [11/60], Step [50/90], Loss: 0.0213\n",
            "Epoch [11/60], Step [55/90], Loss: 0.0216\n",
            "Epoch [11/60], Step [60/90], Loss: 0.0205\n",
            "Epoch [11/60], Step [65/90], Loss: 0.0204\n",
            "Epoch [11/60], Step [70/90], Loss: 0.0194\n",
            "Epoch [11/60], Step [75/90], Loss: 0.0173\n",
            "Epoch [11/60], Step [80/90], Loss: 0.0217\n",
            "Epoch [11/60], Step [85/90], Loss: 0.0212\n",
            "Epoch [11/60], Step [90/90], Loss: 0.0227\n",
            "End of epoch\n",
            "Score of  0.01951967179775238 is the best yet. Saving model ...\n",
            "Epoch [12/60], Step [5/90], Loss: 0.0189\n",
            "Epoch [12/60], Step [10/90], Loss: 0.0198\n",
            "Epoch [12/60], Step [15/90], Loss: 0.0197\n",
            "Epoch [12/60], Step [20/90], Loss: 0.0191\n",
            "Epoch [12/60], Step [25/90], Loss: 0.0253\n",
            "Epoch [12/60], Step [30/90], Loss: 0.0237\n",
            "Epoch [12/60], Step [35/90], Loss: 0.0185\n",
            "Epoch [12/60], Step [40/90], Loss: 0.0210\n",
            "Epoch [12/60], Step [45/90], Loss: 0.0202\n",
            "Epoch [12/60], Step [50/90], Loss: 0.0233\n",
            "Epoch [12/60], Step [55/90], Loss: 0.0218\n",
            "Epoch [12/60], Step [60/90], Loss: 0.0169\n",
            "Epoch [12/60], Step [65/90], Loss: 0.0193\n",
            "Epoch [12/60], Step [70/90], Loss: 0.0159\n",
            "Epoch [12/60], Step [75/90], Loss: 0.0176\n",
            "Epoch [12/60], Step [80/90], Loss: 0.0195\n",
            "Epoch [12/60], Step [85/90], Loss: 0.0172\n",
            "Epoch [12/60], Step [90/90], Loss: 0.0174\n",
            "End of epoch\n",
            "Score of  0.016486693173646927 is the best yet. Saving model ...\n",
            "Epoch [13/60], Step [5/90], Loss: 0.0156\n",
            "Epoch [13/60], Step [10/90], Loss: 0.0166\n",
            "Epoch [13/60], Step [15/90], Loss: 0.0166\n",
            "Epoch [13/60], Step [20/90], Loss: 0.0165\n",
            "Epoch [13/60], Step [25/90], Loss: 0.0149\n",
            "Epoch [13/60], Step [30/90], Loss: 0.0152\n",
            "Epoch [13/60], Step [35/90], Loss: 0.0147\n",
            "Epoch [13/60], Step [40/90], Loss: 0.0156\n",
            "Epoch [13/60], Step [45/90], Loss: 0.0230\n",
            "Epoch [13/60], Step [50/90], Loss: 0.0179\n",
            "Epoch [13/60], Step [55/90], Loss: 0.0161\n",
            "Epoch [13/60], Step [60/90], Loss: 0.0132\n",
            "Epoch [13/60], Step [65/90], Loss: 0.0154\n",
            "Epoch [13/60], Step [70/90], Loss: 0.0142\n",
            "Epoch [13/60], Step [75/90], Loss: 0.0134\n",
            "Epoch [13/60], Step [80/90], Loss: 0.0129\n",
            "Epoch [13/60], Step [85/90], Loss: 0.0136\n",
            "Epoch [13/60], Step [90/90], Loss: 0.0114\n",
            "End of epoch\n",
            "Score of  0.012662719003856182 is the best yet. Saving model ...\n",
            "Epoch [14/60], Step [5/90], Loss: 0.0158\n",
            "Epoch [14/60], Step [10/90], Loss: 0.0116\n",
            "Epoch [14/60], Step [15/90], Loss: 0.0133\n",
            "Epoch [14/60], Step [20/90], Loss: 0.0142\n",
            "Epoch [14/60], Step [25/90], Loss: 0.0136\n",
            "Epoch [14/60], Step [30/90], Loss: 0.0140\n",
            "Epoch [14/60], Step [35/90], Loss: 0.0147\n",
            "Epoch [14/60], Step [40/90], Loss: 0.0195\n",
            "Epoch [14/60], Step [45/90], Loss: 0.0147\n",
            "Epoch [14/60], Step [50/90], Loss: 0.0121\n",
            "Epoch [14/60], Step [55/90], Loss: 0.0127\n",
            "Epoch [14/60], Step [60/90], Loss: 0.0123\n",
            "Epoch [14/60], Step [65/90], Loss: 0.0137\n",
            "Epoch [14/60], Step [70/90], Loss: 0.0122\n",
            "Epoch [14/60], Step [75/90], Loss: 0.0122\n",
            "Epoch [14/60], Step [80/90], Loss: 0.0120\n",
            "Epoch [14/60], Step [85/90], Loss: 0.0121\n",
            "Epoch [14/60], Step [90/90], Loss: 0.0125\n",
            "End of epoch\n",
            "Score of  0.01121803279966116 is the best yet. Saving model ...\n",
            "Epoch [15/60], Step [5/90], Loss: 0.0132\n",
            "Epoch [15/60], Step [10/90], Loss: 0.0126\n",
            "Epoch [15/60], Step [15/90], Loss: 0.0127\n",
            "Epoch [15/60], Step [20/90], Loss: 0.0117\n",
            "Epoch [15/60], Step [25/90], Loss: 0.0128\n",
            "Epoch [15/60], Step [30/90], Loss: 0.0137\n",
            "Epoch [15/60], Step [35/90], Loss: 0.0117\n",
            "Epoch [15/60], Step [40/90], Loss: 0.0113\n",
            "Epoch [15/60], Step [45/90], Loss: 0.0120\n",
            "Epoch [15/60], Step [50/90], Loss: 0.0132\n",
            "Epoch [15/60], Step [55/90], Loss: 0.0120\n",
            "Epoch [15/60], Step [60/90], Loss: 0.0119\n",
            "Epoch [15/60], Step [65/90], Loss: 0.0128\n",
            "Epoch [15/60], Step [70/90], Loss: 0.0117\n",
            "Epoch [15/60], Step [75/90], Loss: 0.0121\n",
            "Epoch [15/60], Step [80/90], Loss: 0.0128\n",
            "Epoch [15/60], Step [85/90], Loss: 0.0112\n",
            "Epoch [15/60], Step [90/90], Loss: 0.0107\n",
            "End of epoch\n",
            "Epoch [16/60], Step [5/90], Loss: 0.0113\n",
            "Epoch [16/60], Step [10/90], Loss: 0.0132\n",
            "Epoch [16/60], Step [15/90], Loss: 0.0118\n",
            "Epoch [16/60], Step [20/90], Loss: 0.0121\n",
            "Epoch [16/60], Step [25/90], Loss: 0.0120\n",
            "Epoch [16/60], Step [30/90], Loss: 0.0109\n",
            "Epoch [16/60], Step [35/90], Loss: 0.0111\n",
            "Epoch [16/60], Step [40/90], Loss: 0.0108\n",
            "Epoch [16/60], Step [45/90], Loss: 0.0114\n",
            "Epoch [16/60], Step [50/90], Loss: 0.0102\n",
            "Epoch [16/60], Step [55/90], Loss: 0.0121\n",
            "Epoch [16/60], Step [60/90], Loss: 0.0147\n",
            "Epoch [16/60], Step [65/90], Loss: 0.0108\n",
            "Epoch [16/60], Step [70/90], Loss: 0.0120\n",
            "Epoch [16/60], Step [75/90], Loss: 0.0116\n",
            "Epoch [16/60], Step [80/90], Loss: 0.0116\n",
            "Epoch [16/60], Step [85/90], Loss: 0.0131\n",
            "Epoch [16/60], Step [90/90], Loss: 0.0117\n",
            "End of epoch\n",
            "Score of  0.009204758331179619 is the best yet. Saving model ...\n",
            "Epoch [17/60], Step [5/90], Loss: 0.0122\n",
            "Epoch [17/60], Step [10/90], Loss: 0.0113\n",
            "Epoch [17/60], Step [15/90], Loss: 0.0104\n",
            "Epoch [17/60], Step [20/90], Loss: 0.0106\n",
            "Epoch [17/60], Step [25/90], Loss: 0.0095\n",
            "Epoch [17/60], Step [30/90], Loss: 0.0141\n",
            "Epoch [17/60], Step [35/90], Loss: 0.0121\n",
            "Epoch [17/60], Step [40/90], Loss: 0.0121\n",
            "Epoch [17/60], Step [45/90], Loss: 0.0114\n",
            "Epoch [17/60], Step [50/90], Loss: 0.0120\n",
            "Epoch [17/60], Step [55/90], Loss: 0.0106\n",
            "Epoch [17/60], Step [60/90], Loss: 0.0108\n",
            "Epoch [17/60], Step [65/90], Loss: 0.0115\n",
            "Epoch [17/60], Step [70/90], Loss: 0.0114\n",
            "Epoch [17/60], Step [75/90], Loss: 0.0109\n",
            "Epoch [17/60], Step [80/90], Loss: 0.0107\n",
            "Epoch [17/60], Step [85/90], Loss: 0.0108\n",
            "Epoch [17/60], Step [90/90], Loss: 0.0106\n",
            "End of epoch\n",
            "Epoch [18/60], Step [5/90], Loss: 0.0121\n",
            "Epoch [18/60], Step [10/90], Loss: 0.0105\n",
            "Epoch [18/60], Step [15/90], Loss: 0.0108\n",
            "Epoch [18/60], Step [20/90], Loss: 0.0111\n",
            "Epoch [18/60], Step [25/90], Loss: 0.0104\n",
            "Epoch [18/60], Step [30/90], Loss: 0.0108\n",
            "Epoch [18/60], Step [35/90], Loss: 0.0092\n",
            "Epoch [18/60], Step [40/90], Loss: 0.0109\n",
            "Epoch [18/60], Step [45/90], Loss: 0.0114\n",
            "Epoch [18/60], Step [50/90], Loss: 0.0103\n",
            "Epoch [18/60], Step [55/90], Loss: 0.0097\n",
            "Epoch [18/60], Step [60/90], Loss: 0.0103\n",
            "Epoch [18/60], Step [65/90], Loss: 0.0119\n",
            "Epoch [18/60], Step [70/90], Loss: 0.0122\n",
            "Epoch [18/60], Step [75/90], Loss: 0.0103\n",
            "Epoch [18/60], Step [80/90], Loss: 0.0099\n",
            "Epoch [18/60], Step [85/90], Loss: 0.0112\n",
            "Epoch [18/60], Step [90/90], Loss: 0.0088\n",
            "End of epoch\n",
            "Epoch [19/60], Step [5/90], Loss: 0.0107\n",
            "Epoch [19/60], Step [10/90], Loss: 0.0112\n",
            "Epoch [19/60], Step [15/90], Loss: 0.0109\n",
            "Epoch [19/60], Step [20/90], Loss: 0.0112\n",
            "Epoch [19/60], Step [25/90], Loss: 0.0135\n",
            "Epoch [19/60], Step [30/90], Loss: 0.0106\n",
            "Epoch [19/60], Step [35/90], Loss: 0.0104\n",
            "Epoch [19/60], Step [40/90], Loss: 0.0107\n",
            "Epoch [19/60], Step [45/90], Loss: 0.0104\n",
            "Epoch [19/60], Step [50/90], Loss: 0.0100\n",
            "Epoch [19/60], Step [55/90], Loss: 0.0125\n",
            "Epoch [19/60], Step [60/90], Loss: 0.0095\n",
            "Epoch [19/60], Step [65/90], Loss: 0.0108\n",
            "Epoch [19/60], Step [70/90], Loss: 0.0097\n",
            "Epoch [19/60], Step [75/90], Loss: 0.0099\n",
            "Epoch [19/60], Step [80/90], Loss: 0.0113\n",
            "Epoch [19/60], Step [85/90], Loss: 0.0082\n",
            "Epoch [19/60], Step [90/90], Loss: 0.0115\n",
            "End of epoch\n",
            "Epoch [20/60], Step [5/90], Loss: 0.0115\n",
            "Epoch [20/60], Step [10/90], Loss: 0.0097\n",
            "Epoch [20/60], Step [15/90], Loss: 0.0095\n",
            "Epoch [20/60], Step [20/90], Loss: 0.0099\n",
            "Epoch [20/60], Step [25/90], Loss: 0.0097\n",
            "Epoch [20/60], Step [30/90], Loss: 0.0104\n",
            "Epoch [20/60], Step [35/90], Loss: 0.0103\n",
            "Epoch [20/60], Step [40/90], Loss: 0.0100\n",
            "Epoch [20/60], Step [45/90], Loss: 0.0101\n",
            "Epoch [20/60], Step [50/90], Loss: 0.0097\n",
            "Epoch [20/60], Step [55/90], Loss: 0.0117\n",
            "Epoch [20/60], Step [60/90], Loss: 0.0128\n",
            "Epoch [20/60], Step [65/90], Loss: 0.0121\n",
            "Epoch [20/60], Step [70/90], Loss: 0.0112\n",
            "Epoch [20/60], Step [75/90], Loss: 0.0097\n",
            "Epoch [20/60], Step [80/90], Loss: 0.0090\n",
            "Epoch [20/60], Step [85/90], Loss: 0.0116\n",
            "Epoch [20/60], Step [90/90], Loss: 0.0091\n",
            "End of epoch\n",
            "Score of  0.008782830089330673 is the best yet. Saving model ...\n",
            "Epoch [21/60], Step [5/90], Loss: 0.0097\n",
            "Epoch [21/60], Step [10/90], Loss: 0.0087\n",
            "Epoch [21/60], Step [15/90], Loss: 0.0098\n",
            "Epoch [21/60], Step [20/90], Loss: 0.0082\n",
            "Epoch [21/60], Step [25/90], Loss: 0.0084\n",
            "Epoch [21/60], Step [30/90], Loss: 0.0093\n",
            "Epoch [21/60], Step [35/90], Loss: 0.0101\n",
            "Epoch [21/60], Step [40/90], Loss: 0.0080\n",
            "Epoch [21/60], Step [45/90], Loss: 0.0082\n",
            "Epoch [21/60], Step [50/90], Loss: 0.0066\n",
            "Epoch [21/60], Step [55/90], Loss: 0.0093\n",
            "Epoch [21/60], Step [60/90], Loss: 0.0077\n",
            "Epoch [21/60], Step [65/90], Loss: 0.0077\n",
            "Epoch [21/60], Step [70/90], Loss: 0.0077\n",
            "Epoch [21/60], Step [75/90], Loss: 0.0071\n",
            "Epoch [21/60], Step [80/90], Loss: 0.0077\n",
            "Epoch [21/60], Step [85/90], Loss: 0.0072\n",
            "Epoch [21/60], Step [90/90], Loss: 0.0064\n",
            "End of epoch\n",
            "Score of  0.006639761384576559 is the best yet. Saving model ...\n",
            "Epoch [22/60], Step [5/90], Loss: 0.0072\n",
            "Epoch [22/60], Step [10/90], Loss: 0.0058\n",
            "Epoch [22/60], Step [15/90], Loss: 0.0068\n",
            "Epoch [22/60], Step [20/90], Loss: 0.0077\n",
            "Epoch [22/60], Step [25/90], Loss: 0.0072\n",
            "Epoch [22/60], Step [30/90], Loss: 0.0085\n",
            "Epoch [22/60], Step [35/90], Loss: 0.0072\n",
            "Epoch [22/60], Step [40/90], Loss: 0.0077\n",
            "Epoch [22/60], Step [45/90], Loss: 0.0073\n",
            "Epoch [22/60], Step [50/90], Loss: 0.0089\n",
            "Epoch [22/60], Step [55/90], Loss: 0.0078\n",
            "Epoch [22/60], Step [60/90], Loss: 0.0080\n",
            "Epoch [22/60], Step [65/90], Loss: 0.0069\n",
            "Epoch [22/60], Step [70/90], Loss: 0.0096\n",
            "Epoch [22/60], Step [75/90], Loss: 0.0084\n",
            "Epoch [22/60], Step [80/90], Loss: 0.0083\n",
            "Epoch [22/60], Step [85/90], Loss: 0.0070\n",
            "Epoch [22/60], Step [90/90], Loss: 0.0070\n",
            "End of epoch\n",
            "Epoch [23/60], Step [5/90], Loss: 0.0077\n",
            "Epoch [23/60], Step [10/90], Loss: 0.0071\n",
            "Epoch [23/60], Step [15/90], Loss: 0.0065\n",
            "Epoch [23/60], Step [20/90], Loss: 0.0070\n",
            "Epoch [23/60], Step [25/90], Loss: 0.0080\n",
            "Epoch [23/60], Step [30/90], Loss: 0.0067\n",
            "Epoch [23/60], Step [35/90], Loss: 0.0078\n",
            "Epoch [23/60], Step [40/90], Loss: 0.0066\n",
            "Epoch [23/60], Step [45/90], Loss: 0.0069\n",
            "Epoch [23/60], Step [50/90], Loss: 0.0057\n",
            "Epoch [23/60], Step [55/90], Loss: 0.0093\n",
            "Epoch [23/60], Step [60/90], Loss: 0.0072\n",
            "Epoch [23/60], Step [65/90], Loss: 0.0070\n",
            "Epoch [23/60], Step [70/90], Loss: 0.0071\n",
            "Epoch [23/60], Step [75/90], Loss: 0.0070\n",
            "Epoch [23/60], Step [80/90], Loss: 0.0093\n",
            "Epoch [23/60], Step [85/90], Loss: 0.0076\n",
            "Epoch [23/60], Step [90/90], Loss: 0.0074\n",
            "End of epoch\n",
            "Epoch [24/60], Step [5/90], Loss: 0.0079\n",
            "Epoch [24/60], Step [10/90], Loss: 0.0077\n",
            "Epoch [24/60], Step [15/90], Loss: 0.0092\n",
            "Epoch [24/60], Step [20/90], Loss: 0.0065\n",
            "Epoch [24/60], Step [25/90], Loss: 0.0078\n",
            "Epoch [24/60], Step [30/90], Loss: 0.0070\n",
            "Epoch [24/60], Step [35/90], Loss: 0.0076\n",
            "Epoch [24/60], Step [40/90], Loss: 0.0067\n",
            "Epoch [24/60], Step [45/90], Loss: 0.0079\n",
            "Epoch [24/60], Step [50/90], Loss: 0.0067\n",
            "Epoch [24/60], Step [55/90], Loss: 0.0063\n",
            "Epoch [24/60], Step [60/90], Loss: 0.0065\n",
            "Epoch [24/60], Step [65/90], Loss: 0.0069\n",
            "Epoch [24/60], Step [70/90], Loss: 0.0062\n",
            "Epoch [24/60], Step [75/90], Loss: 0.0071\n",
            "Epoch [24/60], Step [80/90], Loss: 0.0060\n",
            "Epoch [24/60], Step [85/90], Loss: 0.0063\n",
            "Epoch [24/60], Step [90/90], Loss: 0.0074\n",
            "End of epoch\n",
            "Epoch [25/60], Step [5/90], Loss: 0.0088\n",
            "Epoch [25/60], Step [10/90], Loss: 0.0070\n",
            "Epoch [25/60], Step [15/90], Loss: 0.0073\n",
            "Epoch [25/60], Step [20/90], Loss: 0.0063\n",
            "Epoch [25/60], Step [25/90], Loss: 0.0077\n",
            "Epoch [25/60], Step [30/90], Loss: 0.0076\n",
            "Epoch [25/60], Step [35/90], Loss: 0.0076\n",
            "Epoch [25/60], Step [40/90], Loss: 0.0081\n",
            "Epoch [25/60], Step [45/90], Loss: 0.0063\n",
            "Epoch [25/60], Step [50/90], Loss: 0.0063\n",
            "Epoch [25/60], Step [55/90], Loss: 0.0061\n",
            "Epoch [25/60], Step [60/90], Loss: 0.0064\n",
            "Epoch [25/60], Step [65/90], Loss: 0.0057\n",
            "Epoch [25/60], Step [70/90], Loss: 0.0071\n",
            "Epoch [25/60], Step [75/90], Loss: 0.0087\n",
            "Epoch [25/60], Step [80/90], Loss: 0.0073\n",
            "Epoch [25/60], Step [85/90], Loss: 0.0059\n",
            "Epoch [25/60], Step [90/90], Loss: 0.0077\n",
            "End of epoch\n",
            "Epoch [26/60], Step [5/90], Loss: 0.0073\n",
            "Epoch [26/60], Step [10/90], Loss: 0.0073\n",
            "Epoch [26/60], Step [15/90], Loss: 0.0060\n",
            "Epoch [26/60], Step [20/90], Loss: 0.0056\n",
            "Epoch [26/60], Step [25/90], Loss: 0.0076\n",
            "Epoch [26/60], Step [30/90], Loss: 0.0072\n",
            "Epoch [26/60], Step [35/90], Loss: 0.0070\n",
            "Epoch [26/60], Step [40/90], Loss: 0.0069\n",
            "Epoch [26/60], Step [45/90], Loss: 0.0061\n",
            "Epoch [26/60], Step [50/90], Loss: 0.0068\n",
            "Epoch [26/60], Step [55/90], Loss: 0.0058\n",
            "Epoch [26/60], Step [60/90], Loss: 0.0070\n",
            "Epoch [26/60], Step [65/90], Loss: 0.0084\n",
            "Epoch [26/60], Step [70/90], Loss: 0.0079\n",
            "Epoch [26/60], Step [75/90], Loss: 0.0072\n",
            "Epoch [26/60], Step [80/90], Loss: 0.0070\n",
            "Epoch [26/60], Step [85/90], Loss: 0.0062\n",
            "Epoch [26/60], Step [90/90], Loss: 0.0059\n",
            "End of epoch\n",
            "Score of  0.0055603268556296825 is the best yet. Saving model ...\n",
            "Epoch [27/60], Step [5/90], Loss: 0.0067\n",
            "Epoch [27/60], Step [10/90], Loss: 0.0064\n",
            "Epoch [27/60], Step [15/90], Loss: 0.0062\n",
            "Epoch [27/60], Step [20/90], Loss: 0.0076\n",
            "Epoch [27/60], Step [25/90], Loss: 0.0058\n",
            "Epoch [27/60], Step [30/90], Loss: 0.0063\n",
            "Epoch [27/60], Step [35/90], Loss: 0.0078\n",
            "Epoch [27/60], Step [40/90], Loss: 0.0066\n",
            "Epoch [27/60], Step [45/90], Loss: 0.0054\n",
            "Epoch [27/60], Step [50/90], Loss: 0.0071\n",
            "Epoch [27/60], Step [55/90], Loss: 0.0061\n",
            "Epoch [27/60], Step [60/90], Loss: 0.0067\n",
            "Epoch [27/60], Step [65/90], Loss: 0.0069\n",
            "Epoch [27/60], Step [70/90], Loss: 0.0069\n",
            "Epoch [27/60], Step [75/90], Loss: 0.0070\n",
            "Epoch [27/60], Step [80/90], Loss: 0.0056\n",
            "Epoch [27/60], Step [85/90], Loss: 0.0068\n",
            "Epoch [27/60], Step [90/90], Loss: 0.0060\n",
            "End of epoch\n",
            "Epoch [28/60], Step [5/90], Loss: 0.0054\n",
            "Epoch [28/60], Step [10/90], Loss: 0.0054\n",
            "Epoch [28/60], Step [15/90], Loss: 0.0072\n",
            "Epoch [28/60], Step [20/90], Loss: 0.0049\n",
            "Epoch [28/60], Step [25/90], Loss: 0.0062\n",
            "Epoch [28/60], Step [30/90], Loss: 0.0062\n",
            "Epoch [28/60], Step [35/90], Loss: 0.0057\n",
            "Epoch [28/60], Step [40/90], Loss: 0.0067\n",
            "Epoch [28/60], Step [45/90], Loss: 0.0065\n",
            "Epoch [28/60], Step [50/90], Loss: 0.0056\n",
            "Epoch [28/60], Step [55/90], Loss: 0.0062\n",
            "Epoch [28/60], Step [60/90], Loss: 0.0057\n",
            "Epoch [28/60], Step [65/90], Loss: 0.0057\n",
            "Epoch [28/60], Step [70/90], Loss: 0.0067\n",
            "Epoch [28/60], Step [75/90], Loss: 0.0072\n",
            "Epoch [28/60], Step [80/90], Loss: 0.0076\n",
            "Epoch [28/60], Step [85/90], Loss: 0.0060\n",
            "Epoch [28/60], Step [90/90], Loss: 0.0076\n",
            "End of epoch\n",
            "Epoch [29/60], Step [5/90], Loss: 0.0059\n",
            "Epoch [29/60], Step [10/90], Loss: 0.0062\n",
            "Epoch [29/60], Step [15/90], Loss: 0.0069\n",
            "Epoch [29/60], Step [20/90], Loss: 0.0053\n",
            "Epoch [29/60], Step [25/90], Loss: 0.0058\n",
            "Epoch [29/60], Step [30/90], Loss: 0.0051\n",
            "Epoch [29/60], Step [35/90], Loss: 0.0066\n",
            "Epoch [29/60], Step [40/90], Loss: 0.0063\n",
            "Epoch [29/60], Step [45/90], Loss: 0.0057\n",
            "Epoch [29/60], Step [50/90], Loss: 0.0054\n",
            "Epoch [29/60], Step [55/90], Loss: 0.0063\n",
            "Epoch [29/60], Step [60/90], Loss: 0.0055\n",
            "Epoch [29/60], Step [65/90], Loss: 0.0055\n",
            "Epoch [29/60], Step [70/90], Loss: 0.0062\n",
            "Epoch [29/60], Step [75/90], Loss: 0.0060\n",
            "Epoch [29/60], Step [80/90], Loss: 0.0054\n",
            "Epoch [29/60], Step [85/90], Loss: 0.0051\n",
            "Epoch [29/60], Step [90/90], Loss: 0.0070\n",
            "End of epoch\n",
            "Epoch [30/60], Step [5/90], Loss: 0.0064\n",
            "Epoch [30/60], Step [10/90], Loss: 0.0054\n",
            "Epoch [30/60], Step [15/90], Loss: 0.0058\n",
            "Epoch [30/60], Step [20/90], Loss: 0.0058\n",
            "Epoch [30/60], Step [25/90], Loss: 0.0057\n",
            "Epoch [30/60], Step [30/90], Loss: 0.0061\n",
            "Epoch [30/60], Step [35/90], Loss: 0.0058\n",
            "Epoch [30/60], Step [40/90], Loss: 0.0069\n",
            "Epoch [30/60], Step [45/90], Loss: 0.0050\n",
            "Epoch [30/60], Step [50/90], Loss: 0.0050\n",
            "Epoch [30/60], Step [55/90], Loss: 0.0062\n",
            "Epoch [30/60], Step [60/90], Loss: 0.0058\n",
            "Epoch [30/60], Step [65/90], Loss: 0.0068\n",
            "Epoch [30/60], Step [70/90], Loss: 0.0068\n",
            "Epoch [30/60], Step [75/90], Loss: 0.0071\n",
            "Epoch [30/60], Step [80/90], Loss: 0.0061\n",
            "Epoch [30/60], Step [85/90], Loss: 0.0076\n",
            "Epoch [30/60], Step [90/90], Loss: 0.0054\n",
            "End of epoch\n",
            "Epoch [31/60], Step [5/90], Loss: 0.0071\n",
            "Epoch [31/60], Step [10/90], Loss: 0.0061\n",
            "Epoch [31/60], Step [15/90], Loss: 0.0056\n",
            "Epoch [31/60], Step [20/90], Loss: 0.0059\n",
            "Epoch [31/60], Step [25/90], Loss: 0.0054\n",
            "Epoch [31/60], Step [30/90], Loss: 0.0058\n",
            "Epoch [31/60], Step [35/90], Loss: 0.0056\n",
            "Epoch [31/60], Step [40/90], Loss: 0.0050\n",
            "Epoch [31/60], Step [45/90], Loss: 0.0059\n",
            "Epoch [31/60], Step [50/90], Loss: 0.0054\n",
            "Epoch [31/60], Step [55/90], Loss: 0.0058\n",
            "Epoch [31/60], Step [60/90], Loss: 0.0064\n",
            "Epoch [31/60], Step [65/90], Loss: 0.0076\n",
            "Epoch [31/60], Step [70/90], Loss: 0.0051\n",
            "Epoch [31/60], Step [75/90], Loss: 0.0053\n",
            "Epoch [31/60], Step [80/90], Loss: 0.0061\n",
            "Epoch [31/60], Step [85/90], Loss: 0.0074\n",
            "Epoch [31/60], Step [90/90], Loss: 0.0059\n",
            "End of epoch\n",
            "Score of  0.00463873939588666 is the best yet. Saving model ...\n",
            "Epoch [32/60], Step [5/90], Loss: 0.0056\n",
            "Epoch [32/60], Step [10/90], Loss: 0.0060\n",
            "Epoch [32/60], Step [15/90], Loss: 0.0055\n",
            "Epoch [32/60], Step [20/90], Loss: 0.0050\n",
            "Epoch [32/60], Step [25/90], Loss: 0.0049\n",
            "Epoch [32/60], Step [30/90], Loss: 0.0063\n",
            "Epoch [32/60], Step [35/90], Loss: 0.0062\n",
            "Epoch [32/60], Step [40/90], Loss: 0.0054\n",
            "Epoch [32/60], Step [45/90], Loss: 0.0048\n",
            "Epoch [32/60], Step [50/90], Loss: 0.0056\n",
            "Epoch [32/60], Step [55/90], Loss: 0.0059\n",
            "Epoch [32/60], Step [60/90], Loss: 0.0062\n",
            "Epoch [32/60], Step [65/90], Loss: 0.0054\n",
            "Epoch [32/60], Step [70/90], Loss: 0.0063\n",
            "Epoch [32/60], Step [75/90], Loss: 0.0050\n",
            "Epoch [32/60], Step [80/90], Loss: 0.0056\n",
            "Epoch [32/60], Step [85/90], Loss: 0.0050\n",
            "Epoch [32/60], Step [90/90], Loss: 0.0066\n",
            "End of epoch\n",
            "Epoch [33/60], Step [5/90], Loss: 0.0063\n",
            "Epoch [33/60], Step [10/90], Loss: 0.0062\n",
            "Epoch [33/60], Step [15/90], Loss: 0.0055\n",
            "Epoch [33/60], Step [20/90], Loss: 0.0052\n",
            "Epoch [33/60], Step [25/90], Loss: 0.0052\n",
            "Epoch [33/60], Step [30/90], Loss: 0.0082\n",
            "Epoch [33/60], Step [35/90], Loss: 0.0050\n",
            "Epoch [33/60], Step [40/90], Loss: 0.0061\n",
            "Epoch [33/60], Step [45/90], Loss: 0.0051\n",
            "Epoch [33/60], Step [50/90], Loss: 0.0074\n",
            "Epoch [33/60], Step [55/90], Loss: 0.0054\n",
            "Epoch [33/60], Step [60/90], Loss: 0.0061\n",
            "Epoch [33/60], Step [65/90], Loss: 0.0049\n",
            "Epoch [33/60], Step [70/90], Loss: 0.0050\n",
            "Epoch [33/60], Step [75/90], Loss: 0.0045\n",
            "Epoch [33/60], Step [80/90], Loss: 0.0065\n",
            "Epoch [33/60], Step [85/90], Loss: 0.0047\n",
            "Epoch [33/60], Step [90/90], Loss: 0.0043\n",
            "End of epoch\n",
            "Epoch [34/60], Step [5/90], Loss: 0.0066\n",
            "Epoch [34/60], Step [10/90], Loss: 0.0057\n",
            "Epoch [34/60], Step [15/90], Loss: 0.0051\n",
            "Epoch [34/60], Step [20/90], Loss: 0.0049\n",
            "Epoch [34/60], Step [25/90], Loss: 0.0057\n",
            "Epoch [34/60], Step [30/90], Loss: 0.0049\n",
            "Epoch [34/60], Step [35/90], Loss: 0.0044\n",
            "Epoch [34/60], Step [40/90], Loss: 0.0053\n",
            "Epoch [34/60], Step [45/90], Loss: 0.0044\n",
            "Epoch [34/60], Step [50/90], Loss: 0.0049\n",
            "Epoch [34/60], Step [55/90], Loss: 0.0047\n",
            "Epoch [34/60], Step [60/90], Loss: 0.0040\n",
            "Epoch [34/60], Step [65/90], Loss: 0.0043\n",
            "Epoch [34/60], Step [70/90], Loss: 0.0047\n",
            "Epoch [34/60], Step [75/90], Loss: 0.0044\n",
            "Epoch [34/60], Step [80/90], Loss: 0.0038\n",
            "Epoch [34/60], Step [85/90], Loss: 0.0038\n",
            "Epoch [34/60], Step [90/90], Loss: 0.0046\n",
            "End of epoch\n",
            "Score of  0.004013749770820141 is the best yet. Saving model ...\n",
            "Epoch [35/60], Step [5/90], Loss: 0.0040\n",
            "Epoch [35/60], Step [10/90], Loss: 0.0041\n",
            "Epoch [35/60], Step [15/90], Loss: 0.0042\n",
            "Epoch [35/60], Step [20/90], Loss: 0.0041\n",
            "Epoch [35/60], Step [25/90], Loss: 0.0044\n",
            "Epoch [35/60], Step [30/90], Loss: 0.0041\n",
            "Epoch [35/60], Step [35/90], Loss: 0.0044\n",
            "Epoch [35/60], Step [40/90], Loss: 0.0056\n",
            "Epoch [35/60], Step [45/90], Loss: 0.0040\n",
            "Epoch [35/60], Step [50/90], Loss: 0.0040\n",
            "Epoch [35/60], Step [55/90], Loss: 0.0035\n",
            "Epoch [35/60], Step [60/90], Loss: 0.0040\n",
            "Epoch [35/60], Step [65/90], Loss: 0.0041\n",
            "Epoch [35/60], Step [70/90], Loss: 0.0042\n",
            "Epoch [35/60], Step [75/90], Loss: 0.0044\n",
            "Epoch [35/60], Step [80/90], Loss: 0.0048\n",
            "Epoch [35/60], Step [85/90], Loss: 0.0043\n",
            "Epoch [35/60], Step [90/90], Loss: 0.0045\n",
            "End of epoch\n",
            "Score of  0.0036654409486800432 is the best yet. Saving model ...\n",
            "Epoch [36/60], Step [5/90], Loss: 0.0036\n",
            "Epoch [36/60], Step [10/90], Loss: 0.0041\n",
            "Epoch [36/60], Step [15/90], Loss: 0.0048\n",
            "Epoch [36/60], Step [20/90], Loss: 0.0048\n",
            "Epoch [36/60], Step [25/90], Loss: 0.0047\n",
            "Epoch [36/60], Step [30/90], Loss: 0.0038\n",
            "Epoch [36/60], Step [35/90], Loss: 0.0050\n",
            "Epoch [36/60], Step [40/90], Loss: 0.0041\n",
            "Epoch [36/60], Step [45/90], Loss: 0.0052\n",
            "Epoch [36/60], Step [50/90], Loss: 0.0041\n",
            "Epoch [36/60], Step [55/90], Loss: 0.0044\n",
            "Epoch [36/60], Step [60/90], Loss: 0.0045\n",
            "Epoch [36/60], Step [65/90], Loss: 0.0037\n",
            "Epoch [36/60], Step [70/90], Loss: 0.0041\n",
            "Epoch [36/60], Step [75/90], Loss: 0.0038\n",
            "Epoch [36/60], Step [80/90], Loss: 0.0037\n",
            "Epoch [36/60], Step [85/90], Loss: 0.0057\n",
            "Epoch [36/60], Step [90/90], Loss: 0.0039\n",
            "End of epoch\n",
            "Epoch [37/60], Step [5/90], Loss: 0.0033\n",
            "Epoch [37/60], Step [10/90], Loss: 0.0054\n",
            "Epoch [37/60], Step [15/90], Loss: 0.0036\n",
            "Epoch [37/60], Step [20/90], Loss: 0.0039\n",
            "Epoch [37/60], Step [25/90], Loss: 0.0040\n",
            "Epoch [37/60], Step [30/90], Loss: 0.0035\n",
            "Epoch [37/60], Step [35/90], Loss: 0.0039\n",
            "Epoch [37/60], Step [40/90], Loss: 0.0041\n",
            "Epoch [37/60], Step [45/90], Loss: 0.0045\n",
            "Epoch [37/60], Step [50/90], Loss: 0.0038\n",
            "Epoch [37/60], Step [55/90], Loss: 0.0040\n",
            "Epoch [37/60], Step [60/90], Loss: 0.0042\n",
            "Epoch [37/60], Step [65/90], Loss: 0.0041\n",
            "Epoch [37/60], Step [70/90], Loss: 0.0033\n",
            "Epoch [37/60], Step [75/90], Loss: 0.0033\n",
            "Epoch [37/60], Step [80/90], Loss: 0.0038\n",
            "Epoch [37/60], Step [85/90], Loss: 0.0038\n",
            "Epoch [37/60], Step [90/90], Loss: 0.0042\n",
            "End of epoch\n",
            "Epoch [38/60], Step [5/90], Loss: 0.0044\n",
            "Epoch [38/60], Step [10/90], Loss: 0.0037\n",
            "Epoch [38/60], Step [15/90], Loss: 0.0044\n",
            "Epoch [38/60], Step [20/90], Loss: 0.0034\n",
            "Epoch [38/60], Step [25/90], Loss: 0.0042\n",
            "Epoch [38/60], Step [30/90], Loss: 0.0035\n",
            "Epoch [38/60], Step [35/90], Loss: 0.0031\n",
            "Epoch [38/60], Step [40/90], Loss: 0.0034\n",
            "Epoch [38/60], Step [45/90], Loss: 0.0035\n",
            "Epoch [38/60], Step [50/90], Loss: 0.0037\n",
            "Epoch [38/60], Step [55/90], Loss: 0.0035\n",
            "Epoch [38/60], Step [60/90], Loss: 0.0035\n",
            "Epoch [38/60], Step [65/90], Loss: 0.0042\n",
            "Epoch [38/60], Step [70/90], Loss: 0.0034\n",
            "Epoch [38/60], Step [75/90], Loss: 0.0039\n",
            "Epoch [38/60], Step [80/90], Loss: 0.0040\n",
            "Epoch [38/60], Step [85/90], Loss: 0.0038\n",
            "Epoch [38/60], Step [90/90], Loss: 0.0043\n",
            "End of epoch\n",
            "Epoch [39/60], Step [5/90], Loss: 0.0050\n",
            "Epoch [39/60], Step [10/90], Loss: 0.0032\n",
            "Epoch [39/60], Step [15/90], Loss: 0.0036\n",
            "Epoch [39/60], Step [20/90], Loss: 0.0038\n",
            "Epoch [39/60], Step [25/90], Loss: 0.0046\n",
            "Epoch [39/60], Step [30/90], Loss: 0.0043\n",
            "Epoch [39/60], Step [35/90], Loss: 0.0033\n",
            "Epoch [39/60], Step [40/90], Loss: 0.0041\n",
            "Epoch [39/60], Step [45/90], Loss: 0.0035\n",
            "Epoch [39/60], Step [50/90], Loss: 0.0038\n",
            "Epoch [39/60], Step [55/90], Loss: 0.0041\n",
            "Epoch [39/60], Step [60/90], Loss: 0.0037\n",
            "Epoch [39/60], Step [65/90], Loss: 0.0037\n",
            "Epoch [39/60], Step [70/90], Loss: 0.0037\n",
            "Epoch [39/60], Step [75/90], Loss: 0.0029\n",
            "Epoch [39/60], Step [80/90], Loss: 0.0032\n",
            "Epoch [39/60], Step [85/90], Loss: 0.0037\n",
            "Epoch [39/60], Step [90/90], Loss: 0.0038\n",
            "End of epoch\n",
            "Score of  0.004005685914307833 is the best yet. Saving model ...\n",
            "Epoch [40/60], Step [5/90], Loss: 0.0044\n",
            "Epoch [40/60], Step [10/90], Loss: 0.0033\n",
            "Epoch [40/60], Step [15/90], Loss: 0.0049\n",
            "Epoch [40/60], Step [20/90], Loss: 0.0037\n",
            "Epoch [40/60], Step [25/90], Loss: 0.0033\n",
            "Epoch [40/60], Step [30/90], Loss: 0.0038\n",
            "Epoch [40/60], Step [35/90], Loss: 0.0037\n",
            "Epoch [40/60], Step [40/90], Loss: 0.0040\n",
            "Epoch [40/60], Step [45/90], Loss: 0.0034\n",
            "Epoch [40/60], Step [50/90], Loss: 0.0039\n",
            "Epoch [40/60], Step [55/90], Loss: 0.0044\n",
            "Epoch [40/60], Step [60/90], Loss: 0.0032\n",
            "Epoch [40/60], Step [65/90], Loss: 0.0034\n",
            "Epoch [40/60], Step [70/90], Loss: 0.0038\n",
            "Epoch [40/60], Step [75/90], Loss: 0.0030\n",
            "Epoch [40/60], Step [80/90], Loss: 0.0030\n",
            "Epoch [40/60], Step [85/90], Loss: 0.0037\n",
            "Epoch [40/60], Step [90/90], Loss: 0.0029\n",
            "End of epoch\n",
            "Score of  0.0031480679754167795 is the best yet. Saving model ...\n",
            "Epoch [41/60], Step [5/90], Loss: 0.0028\n",
            "Epoch [41/60], Step [10/90], Loss: 0.0026\n",
            "Epoch [41/60], Step [15/90], Loss: 0.0030\n",
            "Epoch [41/60], Step [20/90], Loss: 0.0029\n",
            "Epoch [41/60], Step [25/90], Loss: 0.0022\n",
            "Epoch [41/60], Step [30/90], Loss: 0.0021\n",
            "Epoch [41/60], Step [35/90], Loss: 0.0020\n",
            "Epoch [41/60], Step [40/90], Loss: 0.0024\n",
            "Epoch [41/60], Step [45/90], Loss: 0.0022\n",
            "Epoch [41/60], Step [50/90], Loss: 0.0025\n",
            "Epoch [41/60], Step [55/90], Loss: 0.0025\n",
            "Epoch [41/60], Step [60/90], Loss: 0.0022\n",
            "Epoch [41/60], Step [65/90], Loss: 0.0021\n",
            "Epoch [41/60], Step [70/90], Loss: 0.0017\n",
            "Epoch [41/60], Step [75/90], Loss: 0.0022\n",
            "Epoch [41/60], Step [80/90], Loss: 0.0027\n",
            "Epoch [41/60], Step [85/90], Loss: 0.0024\n",
            "Epoch [41/60], Step [90/90], Loss: 0.0023\n",
            "End of epoch\n",
            "Score of  0.0020211453083902597 is the best yet. Saving model ...\n",
            "Epoch [42/60], Step [5/90], Loss: 0.0018\n",
            "Epoch [42/60], Step [10/90], Loss: 0.0025\n",
            "Epoch [42/60], Step [15/90], Loss: 0.0018\n",
            "Epoch [42/60], Step [20/90], Loss: 0.0018\n",
            "Epoch [42/60], Step [25/90], Loss: 0.0022\n",
            "Epoch [42/60], Step [30/90], Loss: 0.0018\n",
            "Epoch [42/60], Step [35/90], Loss: 0.0020\n",
            "Epoch [42/60], Step [40/90], Loss: 0.0026\n",
            "Epoch [42/60], Step [45/90], Loss: 0.0023\n",
            "Epoch [42/60], Step [50/90], Loss: 0.0020\n",
            "Epoch [42/60], Step [55/90], Loss: 0.0017\n",
            "Epoch [42/60], Step [60/90], Loss: 0.0023\n",
            "Epoch [42/60], Step [65/90], Loss: 0.0020\n",
            "Epoch [42/60], Step [70/90], Loss: 0.0025\n",
            "Epoch [42/60], Step [75/90], Loss: 0.0023\n",
            "Epoch [42/60], Step [80/90], Loss: 0.0018\n",
            "Epoch [42/60], Step [85/90], Loss: 0.0022\n",
            "Epoch [42/60], Step [90/90], Loss: 0.0022\n",
            "End of epoch\n",
            "Score of  0.001865857862867415 is the best yet. Saving model ...\n",
            "Epoch [43/60], Step [5/90], Loss: 0.0021\n",
            "Epoch [43/60], Step [10/90], Loss: 0.0018\n",
            "Epoch [43/60], Step [15/90], Loss: 0.0015\n",
            "Epoch [43/60], Step [20/90], Loss: 0.0019\n",
            "Epoch [43/60], Step [25/90], Loss: 0.0021\n",
            "Epoch [43/60], Step [30/90], Loss: 0.0021\n",
            "Epoch [43/60], Step [35/90], Loss: 0.0021\n",
            "Epoch [43/60], Step [40/90], Loss: 0.0021\n",
            "Epoch [43/60], Step [45/90], Loss: 0.0023\n",
            "Epoch [43/60], Step [50/90], Loss: 0.0025\n",
            "Epoch [43/60], Step [55/90], Loss: 0.0025\n",
            "Epoch [43/60], Step [60/90], Loss: 0.0022\n",
            "Epoch [43/60], Step [65/90], Loss: 0.0020\n",
            "Epoch [43/60], Step [70/90], Loss: 0.0021\n",
            "Epoch [43/60], Step [75/90], Loss: 0.0017\n",
            "Epoch [43/60], Step [80/90], Loss: 0.0025\n",
            "Epoch [43/60], Step [85/90], Loss: 0.0019\n",
            "Epoch [43/60], Step [90/90], Loss: 0.0017\n",
            "End of epoch\n",
            "Epoch [44/60], Step [5/90], Loss: 0.0018\n",
            "Epoch [44/60], Step [10/90], Loss: 0.0022\n",
            "Epoch [44/60], Step [15/90], Loss: 0.0016\n",
            "Epoch [44/60], Step [20/90], Loss: 0.0017\n",
            "Epoch [44/60], Step [25/90], Loss: 0.0024\n",
            "Epoch [44/60], Step [30/90], Loss: 0.0024\n",
            "Epoch [44/60], Step [35/90], Loss: 0.0021\n",
            "Epoch [44/60], Step [40/90], Loss: 0.0019\n",
            "Epoch [44/60], Step [45/90], Loss: 0.0016\n",
            "Epoch [44/60], Step [50/90], Loss: 0.0016\n",
            "Epoch [44/60], Step [55/90], Loss: 0.0020\n",
            "Epoch [44/60], Step [60/90], Loss: 0.0019\n",
            "Epoch [44/60], Step [65/90], Loss: 0.0019\n",
            "Epoch [44/60], Step [70/90], Loss: 0.0021\n",
            "Epoch [44/60], Step [75/90], Loss: 0.0022\n",
            "Epoch [44/60], Step [80/90], Loss: 0.0023\n",
            "Epoch [44/60], Step [85/90], Loss: 0.0018\n",
            "Epoch [44/60], Step [90/90], Loss: 0.0027\n",
            "End of epoch\n",
            "Epoch [45/60], Step [5/90], Loss: 0.0023\n",
            "Epoch [45/60], Step [10/90], Loss: 0.0016\n",
            "Epoch [45/60], Step [15/90], Loss: 0.0016\n",
            "Epoch [45/60], Step [20/90], Loss: 0.0017\n",
            "Epoch [45/60], Step [25/90], Loss: 0.0016\n",
            "Epoch [45/60], Step [30/90], Loss: 0.0016\n",
            "Epoch [45/60], Step [35/90], Loss: 0.0029\n",
            "Epoch [45/60], Step [40/90], Loss: 0.0024\n",
            "Epoch [45/60], Step [45/90], Loss: 0.0017\n",
            "Epoch [45/60], Step [50/90], Loss: 0.0021\n",
            "Epoch [45/60], Step [55/90], Loss: 0.0022\n",
            "Epoch [45/60], Step [60/90], Loss: 0.0028\n",
            "Epoch [45/60], Step [65/90], Loss: 0.0016\n",
            "Epoch [45/60], Step [70/90], Loss: 0.0017\n",
            "Epoch [45/60], Step [75/90], Loss: 0.0020\n",
            "Epoch [45/60], Step [80/90], Loss: 0.0015\n",
            "Epoch [45/60], Step [85/90], Loss: 0.0018\n",
            "Epoch [45/60], Step [90/90], Loss: 0.0017\n",
            "End of epoch\n",
            "Score of  0.0016806344501674175 is the best yet. Saving model ...\n",
            "Epoch [46/60], Step [5/90], Loss: 0.0016\n",
            "Epoch [46/60], Step [10/90], Loss: 0.0017\n",
            "Epoch [46/60], Step [15/90], Loss: 0.0016\n",
            "Epoch [46/60], Step [20/90], Loss: 0.0019\n",
            "Epoch [46/60], Step [25/90], Loss: 0.0027\n",
            "Epoch [46/60], Step [30/90], Loss: 0.0021\n",
            "Epoch [46/60], Step [35/90], Loss: 0.0021\n",
            "Epoch [46/60], Step [40/90], Loss: 0.0021\n",
            "Epoch [46/60], Step [45/90], Loss: 0.0019\n",
            "Epoch [46/60], Step [50/90], Loss: 0.0025\n",
            "Epoch [46/60], Step [55/90], Loss: 0.0016\n",
            "Epoch [46/60], Step [60/90], Loss: 0.0019\n",
            "Epoch [46/60], Step [65/90], Loss: 0.0015\n",
            "Epoch [46/60], Step [70/90], Loss: 0.0015\n",
            "Epoch [46/60], Step [75/90], Loss: 0.0018\n",
            "Epoch [46/60], Step [80/90], Loss: 0.0016\n",
            "Epoch [46/60], Step [85/90], Loss: 0.0021\n",
            "Epoch [46/60], Step [90/90], Loss: 0.0016\n",
            "End of epoch\n",
            "Score of  0.0014790674904361367 is the best yet. Saving model ...\n",
            "Epoch [47/60], Step [5/90], Loss: 0.0017\n",
            "Epoch [47/60], Step [10/90], Loss: 0.0019\n",
            "Epoch [47/60], Step [15/90], Loss: 0.0018\n",
            "Epoch [47/60], Step [20/90], Loss: 0.0018\n",
            "Epoch [47/60], Step [25/90], Loss: 0.0031\n",
            "Epoch [47/60], Step [30/90], Loss: 0.0021\n",
            "Epoch [47/60], Step [35/90], Loss: 0.0018\n",
            "Epoch [47/60], Step [40/90], Loss: 0.0017\n",
            "Epoch [47/60], Step [45/90], Loss: 0.0015\n",
            "Epoch [47/60], Step [50/90], Loss: 0.0016\n",
            "Epoch [47/60], Step [55/90], Loss: 0.0016\n",
            "Epoch [47/60], Step [60/90], Loss: 0.0016\n",
            "Epoch [47/60], Step [65/90], Loss: 0.0018\n",
            "Epoch [47/60], Step [70/90], Loss: 0.0018\n",
            "Epoch [47/60], Step [75/90], Loss: 0.0018\n",
            "Epoch [47/60], Step [80/90], Loss: 0.0014\n",
            "Epoch [47/60], Step [85/90], Loss: 0.0016\n",
            "Epoch [47/60], Step [90/90], Loss: 0.0019\n",
            "End of epoch\n",
            "Score of  0.0013118053320795298 is the best yet. Saving model ...\n",
            "Epoch [48/60], Step [5/90], Loss: 0.0027\n",
            "Epoch [48/60], Step [10/90], Loss: 0.0021\n",
            "Epoch [48/60], Step [15/90], Loss: 0.0021\n",
            "Epoch [48/60], Step [20/90], Loss: 0.0020\n",
            "Epoch [48/60], Step [25/90], Loss: 0.0015\n",
            "Epoch [48/60], Step [30/90], Loss: 0.0017\n",
            "Epoch [48/60], Step [35/90], Loss: 0.0015\n",
            "Epoch [48/60], Step [40/90], Loss: 0.0016\n",
            "Epoch [48/60], Step [45/90], Loss: 0.0018\n",
            "Epoch [48/60], Step [50/90], Loss: 0.0014\n",
            "Epoch [48/60], Step [55/90], Loss: 0.0017\n",
            "Epoch [48/60], Step [60/90], Loss: 0.0017\n",
            "Epoch [48/60], Step [65/90], Loss: 0.0017\n",
            "Epoch [48/60], Step [70/90], Loss: 0.0016\n",
            "Epoch [48/60], Step [75/90], Loss: 0.0017\n",
            "Epoch [48/60], Step [80/90], Loss: 0.0018\n",
            "Epoch [48/60], Step [85/90], Loss: 0.0014\n",
            "Epoch [48/60], Step [90/90], Loss: 0.0017\n",
            "End of epoch\n",
            "Epoch [49/60], Step [5/90], Loss: 0.0020\n",
            "Epoch [49/60], Step [10/90], Loss: 0.0019\n",
            "Epoch [49/60], Step [15/90], Loss: 0.0019\n",
            "Epoch [49/60], Step [20/90], Loss: 0.0019\n",
            "Epoch [49/60], Step [25/90], Loss: 0.0017\n",
            "Epoch [49/60], Step [30/90], Loss: 0.0016\n",
            "Epoch [49/60], Step [35/90], Loss: 0.0020\n",
            "Epoch [49/60], Step [40/90], Loss: 0.0022\n",
            "Epoch [49/60], Step [45/90], Loss: 0.0020\n",
            "Epoch [49/60], Step [50/90], Loss: 0.0017\n",
            "Epoch [49/60], Step [55/90], Loss: 0.0017\n",
            "Epoch [49/60], Step [60/90], Loss: 0.0016\n",
            "Epoch [49/60], Step [65/90], Loss: 0.0018\n",
            "Epoch [49/60], Step [70/90], Loss: 0.0015\n",
            "Epoch [49/60], Step [75/90], Loss: 0.0019\n",
            "Epoch [49/60], Step [80/90], Loss: 0.0014\n",
            "Epoch [49/60], Step [85/90], Loss: 0.0015\n",
            "Epoch [49/60], Step [90/90], Loss: 0.0017\n",
            "End of epoch\n",
            "Epoch [50/60], Step [5/90], Loss: 0.0018\n",
            "Epoch [50/60], Step [10/90], Loss: 0.0015\n",
            "Epoch [50/60], Step [15/90], Loss: 0.0017\n",
            "Epoch [50/60], Step [20/90], Loss: 0.0015\n",
            "Epoch [50/60], Step [25/90], Loss: 0.0013\n",
            "Epoch [50/60], Step [30/90], Loss: 0.0015\n",
            "Epoch [50/60], Step [35/90], Loss: 0.0014\n",
            "Epoch [50/60], Step [40/90], Loss: 0.0014\n",
            "Epoch [50/60], Step [45/90], Loss: 0.0014\n",
            "Epoch [50/60], Step [50/90], Loss: 0.0015\n",
            "Epoch [50/60], Step [55/90], Loss: 0.0018\n",
            "Epoch [50/60], Step [60/90], Loss: 0.0015\n",
            "Epoch [50/60], Step [65/90], Loss: 0.0015\n",
            "Epoch [50/60], Step [70/90], Loss: 0.0016\n",
            "Epoch [50/60], Step [75/90], Loss: 0.0017\n",
            "Epoch [50/60], Step [80/90], Loss: 0.0016\n",
            "Epoch [50/60], Step [85/90], Loss: 0.0015\n",
            "Epoch [50/60], Step [90/90], Loss: 0.0016\n",
            "End of epoch\n",
            "Score of  0.0014130051713436842 is the best yet. Saving model ...\n",
            "Epoch [51/60], Step [5/90], Loss: 0.0014\n",
            "Epoch [51/60], Step [10/90], Loss: 0.0014\n",
            "Epoch [51/60], Step [15/90], Loss: 0.0016\n",
            "Epoch [51/60], Step [20/90], Loss: 0.0023\n",
            "Epoch [51/60], Step [25/90], Loss: 0.0015\n",
            "Epoch [51/60], Step [30/90], Loss: 0.0017\n",
            "Epoch [51/60], Step [35/90], Loss: 0.0022\n",
            "Epoch [51/60], Step [40/90], Loss: 0.0019\n",
            "Epoch [51/60], Step [45/90], Loss: 0.0021\n",
            "Epoch [51/60], Step [50/90], Loss: 0.0024\n",
            "Epoch [51/60], Step [55/90], Loss: 0.0015\n",
            "Epoch [51/60], Step [60/90], Loss: 0.0023\n",
            "Epoch [51/60], Step [65/90], Loss: 0.0014\n",
            "Epoch [51/60], Step [70/90], Loss: 0.0013\n",
            "Epoch [51/60], Step [75/90], Loss: 0.0016\n",
            "Epoch [51/60], Step [80/90], Loss: 0.0016\n",
            "Epoch [51/60], Step [85/90], Loss: 0.0017\n",
            "Epoch [51/60], Step [90/90], Loss: 0.0015\n",
            "End of epoch\n",
            "Score of  0.001310061546973884 is the best yet. Saving model ...\n",
            "Epoch [52/60], Step [5/90], Loss: 0.0012\n",
            "Epoch [52/60], Step [10/90], Loss: 0.0014\n",
            "Epoch [52/60], Step [15/90], Loss: 0.0017\n",
            "Epoch [52/60], Step [20/90], Loss: 0.0013\n",
            "Epoch [52/60], Step [25/90], Loss: 0.0013\n",
            "Epoch [52/60], Step [30/90], Loss: 0.0012\n",
            "Epoch [52/60], Step [35/90], Loss: 0.0018\n",
            "Epoch [52/60], Step [40/90], Loss: 0.0017\n",
            "Epoch [52/60], Step [45/90], Loss: 0.0016\n",
            "Epoch [52/60], Step [50/90], Loss: 0.0016\n",
            "Epoch [52/60], Step [55/90], Loss: 0.0017\n",
            "Epoch [52/60], Step [60/90], Loss: 0.0019\n",
            "Epoch [52/60], Step [65/90], Loss: 0.0019\n",
            "Epoch [52/60], Step [70/90], Loss: 0.0019\n",
            "Epoch [52/60], Step [75/90], Loss: 0.0015\n",
            "Epoch [52/60], Step [80/90], Loss: 0.0013\n",
            "Epoch [52/60], Step [85/90], Loss: 0.0013\n",
            "Epoch [52/60], Step [90/90], Loss: 0.0014\n",
            "End of epoch\n",
            "Score of  0.001249280758202076 is the best yet. Saving model ...\n",
            "Epoch [53/60], Step [5/90], Loss: 0.0015\n",
            "Epoch [53/60], Step [10/90], Loss: 0.0014\n",
            "Epoch [53/60], Step [15/90], Loss: 0.0015\n",
            "Epoch [53/60], Step [20/90], Loss: 0.0013\n",
            "Epoch [53/60], Step [25/90], Loss: 0.0015\n",
            "Epoch [53/60], Step [30/90], Loss: 0.0012\n",
            "Epoch [53/60], Step [35/90], Loss: 0.0014\n",
            "Epoch [53/60], Step [40/90], Loss: 0.0020\n",
            "Epoch [53/60], Step [45/90], Loss: 0.0014\n",
            "Epoch [53/60], Step [50/90], Loss: 0.0013\n",
            "Epoch [53/60], Step [55/90], Loss: 0.0012\n",
            "Epoch [53/60], Step [60/90], Loss: 0.0023\n",
            "Epoch [53/60], Step [65/90], Loss: 0.0013\n",
            "Epoch [53/60], Step [70/90], Loss: 0.0019\n",
            "Epoch [53/60], Step [75/90], Loss: 0.0014\n",
            "Epoch [53/60], Step [80/90], Loss: 0.0017\n",
            "Epoch [53/60], Step [85/90], Loss: 0.0012\n",
            "Epoch [53/60], Step [90/90], Loss: 0.0015\n",
            "End of epoch\n",
            "Epoch [54/60], Step [5/90], Loss: 0.0012\n",
            "Epoch [54/60], Step [10/90], Loss: 0.0012\n",
            "Epoch [54/60], Step [15/90], Loss: 0.0011\n",
            "Epoch [54/60], Step [20/90], Loss: 0.0016\n",
            "Epoch [54/60], Step [25/90], Loss: 0.0017\n",
            "Epoch [54/60], Step [30/90], Loss: 0.0017\n",
            "Epoch [54/60], Step [35/90], Loss: 0.0011\n",
            "Epoch [54/60], Step [40/90], Loss: 0.0018\n",
            "Epoch [54/60], Step [45/90], Loss: 0.0014\n",
            "Epoch [54/60], Step [50/90], Loss: 0.0014\n",
            "Epoch [54/60], Step [55/90], Loss: 0.0015\n",
            "Epoch [54/60], Step [60/90], Loss: 0.0015\n",
            "Epoch [54/60], Step [65/90], Loss: 0.0014\n",
            "Epoch [54/60], Step [70/90], Loss: 0.0018\n",
            "Epoch [54/60], Step [75/90], Loss: 0.0016\n",
            "Epoch [54/60], Step [80/90], Loss: 0.0016\n",
            "Epoch [54/60], Step [85/90], Loss: 0.0014\n",
            "Epoch [54/60], Step [90/90], Loss: 0.0015\n",
            "End of epoch\n",
            "Epoch [55/60], Step [5/90], Loss: 0.0012\n",
            "Epoch [55/60], Step [10/90], Loss: 0.0017\n",
            "Epoch [55/60], Step [15/90], Loss: 0.0012\n",
            "Epoch [55/60], Step [20/90], Loss: 0.0012\n",
            "Epoch [55/60], Step [25/90], Loss: 0.0013\n",
            "Epoch [55/60], Step [30/90], Loss: 0.0012\n",
            "Epoch [55/60], Step [35/90], Loss: 0.0013\n",
            "Epoch [55/60], Step [40/90], Loss: 0.0012\n",
            "Epoch [55/60], Step [45/90], Loss: 0.0016\n",
            "Epoch [55/60], Step [50/90], Loss: 0.0017\n",
            "Epoch [55/60], Step [55/90], Loss: 0.0027\n",
            "Epoch [55/60], Step [60/90], Loss: 0.0014\n",
            "Epoch [55/60], Step [65/90], Loss: 0.0037\n",
            "Epoch [55/60], Step [70/90], Loss: 0.0021\n",
            "Epoch [55/60], Step [75/90], Loss: 0.0012\n",
            "Epoch [55/60], Step [80/90], Loss: 0.0015\n",
            "Epoch [55/60], Step [85/90], Loss: 0.0018\n",
            "Epoch [55/60], Step [90/90], Loss: 0.0015\n",
            "End of epoch\n",
            "Epoch [56/60], Step [5/90], Loss: 0.0013\n",
            "Epoch [56/60], Step [10/90], Loss: 0.0017\n",
            "Epoch [56/60], Step [15/90], Loss: 0.0011\n",
            "Epoch [56/60], Step [20/90], Loss: 0.0013\n",
            "Epoch [56/60], Step [25/90], Loss: 0.0013\n",
            "Epoch [56/60], Step [30/90], Loss: 0.0013\n",
            "Epoch [56/60], Step [35/90], Loss: 0.0012\n",
            "Epoch [56/60], Step [40/90], Loss: 0.0013\n",
            "Epoch [56/60], Step [45/90], Loss: 0.0013\n",
            "Epoch [56/60], Step [50/90], Loss: 0.0017\n",
            "Epoch [56/60], Step [55/90], Loss: 0.0015\n",
            "Epoch [56/60], Step [60/90], Loss: 0.0013\n",
            "Epoch [56/60], Step [65/90], Loss: 0.0015\n",
            "Epoch [56/60], Step [70/90], Loss: 0.0013\n",
            "Epoch [56/60], Step [75/90], Loss: 0.0010\n",
            "Epoch [56/60], Step [80/90], Loss: 0.0012\n",
            "Epoch [56/60], Step [85/90], Loss: 0.0011\n",
            "Epoch [56/60], Step [90/90], Loss: 0.0016\n",
            "End of epoch\n",
            "Score of  0.0013186081778258085 is the best yet. Saving model ...\n",
            "Epoch [57/60], Step [5/90], Loss: 0.0011\n",
            "Epoch [57/60], Step [10/90], Loss: 0.0012\n",
            "Epoch [57/60], Step [15/90], Loss: 0.0014\n",
            "Epoch [57/60], Step [20/90], Loss: 0.0013\n",
            "Epoch [57/60], Step [25/90], Loss: 0.0021\n",
            "Epoch [57/60], Step [30/90], Loss: 0.0018\n",
            "Epoch [57/60], Step [35/90], Loss: 0.0014\n",
            "Epoch [57/60], Step [40/90], Loss: 0.0018\n",
            "Epoch [57/60], Step [45/90], Loss: 0.0014\n",
            "Epoch [57/60], Step [50/90], Loss: 0.0019\n",
            "Epoch [57/60], Step [55/90], Loss: 0.0012\n",
            "Epoch [57/60], Step [60/90], Loss: 0.0015\n",
            "Epoch [57/60], Step [65/90], Loss: 0.0013\n",
            "Epoch [57/60], Step [70/90], Loss: 0.0014\n",
            "Epoch [57/60], Step [75/90], Loss: 0.0014\n",
            "Epoch [57/60], Step [80/90], Loss: 0.0015\n",
            "Epoch [57/60], Step [85/90], Loss: 0.0014\n",
            "Epoch [57/60], Step [90/90], Loss: 0.0012\n",
            "End of epoch\n",
            "Epoch [58/60], Step [5/90], Loss: 0.0016\n",
            "Epoch [58/60], Step [10/90], Loss: 0.0014\n",
            "Epoch [58/60], Step [15/90], Loss: 0.0014\n",
            "Epoch [58/60], Step [20/90], Loss: 0.0015\n",
            "Epoch [58/60], Step [25/90], Loss: 0.0013\n",
            "Epoch [58/60], Step [30/90], Loss: 0.0015\n",
            "Epoch [58/60], Step [35/90], Loss: 0.0014\n",
            "Epoch [58/60], Step [40/90], Loss: 0.0014\n",
            "Epoch [58/60], Step [45/90], Loss: 0.0019\n",
            "Epoch [58/60], Step [50/90], Loss: 0.0011\n",
            "Epoch [58/60], Step [55/90], Loss: 0.0014\n",
            "Epoch [58/60], Step [60/90], Loss: 0.0016\n",
            "Epoch [58/60], Step [65/90], Loss: 0.0013\n",
            "Epoch [58/60], Step [70/90], Loss: 0.0012\n",
            "Epoch [58/60], Step [75/90], Loss: 0.0014\n",
            "Epoch [58/60], Step [80/90], Loss: 0.0012\n",
            "Epoch [58/60], Step [85/90], Loss: 0.0013\n",
            "Epoch [58/60], Step [90/90], Loss: 0.0017\n",
            "End of epoch\n",
            "Score of  0.0011775180464610457 is the best yet. Saving model ...\n",
            "Epoch [59/60], Step [5/90], Loss: 0.0013\n",
            "Epoch [59/60], Step [10/90], Loss: 0.0016\n",
            "Epoch [59/60], Step [15/90], Loss: 0.0013\n",
            "Epoch [59/60], Step [20/90], Loss: 0.0014\n",
            "Epoch [59/60], Step [25/90], Loss: 0.0018\n",
            "Epoch [59/60], Step [30/90], Loss: 0.0011\n",
            "Epoch [59/60], Step [35/90], Loss: 0.0013\n",
            "Epoch [59/60], Step [40/90], Loss: 0.0012\n",
            "Epoch [59/60], Step [45/90], Loss: 0.0013\n",
            "Epoch [59/60], Step [50/90], Loss: 0.0021\n",
            "Epoch [59/60], Step [55/90], Loss: 0.0011\n",
            "Epoch [59/60], Step [60/90], Loss: 0.0013\n",
            "Epoch [59/60], Step [65/90], Loss: 0.0011\n",
            "Epoch [59/60], Step [70/90], Loss: 0.0013\n",
            "Epoch [59/60], Step [75/90], Loss: 0.0012\n",
            "Epoch [59/60], Step [80/90], Loss: 0.0014\n",
            "Epoch [59/60], Step [85/90], Loss: 0.0013\n",
            "Epoch [59/60], Step [90/90], Loss: 0.0011\n",
            "End of epoch\n",
            "Score of  0.0010234513320028782 is the best yet. Saving model ...\n",
            "Epoch [60/60], Step [5/90], Loss: 0.0011\n",
            "Epoch [60/60], Step [10/90], Loss: 0.0013\n",
            "Epoch [60/60], Step [15/90], Loss: 0.0016\n",
            "Epoch [60/60], Step [20/90], Loss: 0.0013\n",
            "Epoch [60/60], Step [25/90], Loss: 0.0018\n",
            "Epoch [60/60], Step [30/90], Loss: 0.0017\n",
            "Epoch [60/60], Step [35/90], Loss: 0.0015\n",
            "Epoch [60/60], Step [40/90], Loss: 0.0011\n",
            "Epoch [60/60], Step [45/90], Loss: 0.0015\n",
            "Epoch [60/60], Step [50/90], Loss: 0.0012\n",
            "Epoch [60/60], Step [55/90], Loss: 0.0019\n",
            "Epoch [60/60], Step [60/90], Loss: 0.0011\n",
            "Epoch [60/60], Step [65/90], Loss: 0.0014\n",
            "Epoch [60/60], Step [70/90], Loss: 0.0014\n",
            "Epoch [60/60], Step [75/90], Loss: 0.0015\n",
            "Epoch [60/60], Step [80/90], Loss: 0.0012\n",
            "Epoch [60/60], Step [85/90], Loss: 0.0017\n",
            "Epoch [60/60], Step [90/90], Loss: 0.0014\n"
          ]
        }
      ],
      "source": [
        "start = time.time()\n",
        "\n",
        "epoch_loss, train_acc = fit(model, loss_fn, optimizer, train_loader, batch_size, num_epochs, stat_count = 5,device = None, PATH = '/content/drive/MyDrive/CT_Project/model_patched_var_ker.pt')\n",
        "\n",
        "end = time.time()"
      ]
    },
    {
      "cell_type": "code",
      "execution_count": 15,
      "metadata": {
        "id": "mJS88O_9IQYi",
        "colab": {
          "base_uri": "https://localhost:8080/"
        },
        "outputId": "95e3e0cc-48fd-4796-e143-b58426d53e62"
      },
      "outputs": [
        {
          "output_type": "stream",
          "name": "stdout",
          "text": [
            "Model Training took  5.912714628444777 hours\n"
          ]
        }
      ],
      "source": [
        "hours_elapsed = ((end-start)/3600)\n",
        "print(\"Model Training took \", hours_elapsed, \"hours\")"
      ]
    },
    {
      "cell_type": "code",
      "execution_count": 16,
      "metadata": {
        "id": "rPUyZ-DEC5iP",
        "colab": {
          "base_uri": "https://localhost:8080/",
          "height": 260
        },
        "outputId": "a580d96c-ec4e-4757-af2f-ac76deb1505b"
      },
      "outputs": [
        {
          "output_type": "display_data",
          "data": {
            "text/plain": [
              "<Figure size 576x576 with 1 Axes>"
            ],
            "image/png": "[encoded data removed]"
          },
          "metadata": {
            "needs_background": "light"
          }
        }
      ],
      "source": [
        "plt.figure(figsize=(8,8))\n",
        "plt.subplot(212)\n",
        "plt.plot(range(len(epoch_loss)), epoch_loss)\n",
        "plt.xlabel('Training Epoch')\n",
        "plt.ylabel('Train Loss Value')\n",
        "plt.savefig('/content/drive/MyDrive/CT_Project/trainloss_patched_var.png')\n",
        "plt.show()"
      ]
    },
    {
      "cell_type": "code",
      "execution_count": 17,
      "metadata": {
        "id": "KQdTVEa4DUuf",
        "colab": {
          "base_uri": "https://localhost:8080/",
          "height": 260
        },
        "outputId": "9e482148-65c8-4ea0-ec9f-8420e21bec46"
      },
      "outputs": [
        {
          "output_type": "display_data",
          "data": {
            "text/plain": [
              "<Figure size 576x576 with 1 Axes>"
            ],
            "image/png": "[encoded data removed]"
          },
          "metadata": {
            "needs_background": "light"
          }
        }
      ],
      "source": [
        "plt.figure(figsize=(8,8))\n",
        "plt.subplot(212)\n",
        "plt.plot(range(len(train_acc)), train_acc)\n",
        "plt.xlabel('Training Epoch')\n",
        "plt.ylabel('Train Set MSE Value')\n",
        "plt.savefig('/content/drive/MyDrive/CT_Project/trainacc_patched_var.png')\n",
        "plt.show()"
      ]
    },
    {
      "cell_type": "markdown",
      "source": [
        "# **4th Part: Testing**\n",
        "\n",
        "model_patched = 55x55 patches with Transforms\n",
        "\n",
        "model_patched2 = 55x55 patches with Transforms\n",
        "\n",
        "model_patched_var_ker = 55x55 patches with Transforms, Exponential LR, 60 epochs and no Model Checkpoint (forced save at epoch 50)"
      ],
      "metadata": {
        "id": "4JDA3yUFg-R6"
      }
    },
    {
      "cell_type": "code",
      "source": [
        "error, noisy_error, denoised, LDCT, image = test(model, test_loader, loss_fn,  batch_size = 1, device = None, sample_idx = 7, PATH = '/content/drive/MyDrive/CT_Project/model_patched_var_ker.pt')"
      ],
      "metadata": {
        "colab": {
          "base_uri": "https://localhost:8080/"
        },
        "id": "KkT1dQPUuq7m",
        "outputId": "5406ef91-6a59-490c-b119-d6f0e3f277c1"
      },
      "execution_count": 11,
      "outputs": [
        {
          "output_type": "stream",
          "name": "stdout",
          "text": [
            "Average MSE Loss =  0.0011397965223681095\n"
          ]
        }
      ]
    },
    {
      "cell_type": "code",
      "source": [
        "plt.imshow(image.cpu()[0][0],cmap='gray',vmin=0,vmax=1)"
      ],
      "metadata": {
        "colab": {
          "base_uri": "https://localhost:8080/",
          "height": 284
        },
        "id": "aB9a6ePWuqBO",
        "outputId": "d611016a-4f96-4a83-d182-889f3f5fd0c6"
      },
      "execution_count": 12,
      "outputs": [
        {
          "output_type": "execute_result",
          "data": {
            "text/plain": [
              "<matplotlib.image.AxesImage at 0x7fcc907e2810>"
            ]
          },
          "metadata": {},
          "execution_count": 12
        },
        {
          "output_type": "display_data",
          "data": {
            "text/plain": [
              "<Figure size 432x288 with 1 Axes>"
            ],
            "image/png": "[encoded data removed]"
          },
          "metadata": {
            "needs_background": "light"
          }
        }
      ]
    },
    {
      "cell_type": "code",
      "source": [
        "plt.imshow(denoised.cpu()[0][0],cmap='gray',vmin=0,vmax=1)"
      ],
      "metadata": {
        "colab": {
          "base_uri": "https://localhost:8080/",
          "height": 284
        },
        "id": "1hApsswPuomG",
        "outputId": "4cc9c9c9-cfc1-4624-be3a-ee4e1f00e4a5"
      },
      "execution_count": 13,
      "outputs": [
        {
          "output_type": "execute_result",
          "data": {
            "text/plain": [
              "<matplotlib.image.AxesImage at 0x7fcc902c7f50>"
            ]
          },
          "metadata": {},
          "execution_count": 13
        },
        {
          "output_type": "display_data",
          "data": {
            "text/plain": [
              "<Figure size 432x288 with 1 Axes>"
            ],
            "image/png": "[encoded data removed]"
          },
          "metadata": {
            "needs_background": "light"
          }
        }
      ]
    },
    {
      "cell_type": "code",
      "source": [
        "plt.imshow(LDCT.cpu()[0][0],cmap='gray',vmin=0,vmax=1)"
      ],
      "metadata": {
        "colab": {
          "base_uri": "https://localhost:8080/",
          "height": 284
        },
        "id": "VmayECNzuoTV",
        "outputId": "fee6b967-c2d6-4f83-a001-1f8be4ac3c1e"
      },
      "execution_count": 14,
      "outputs": [
        {
          "output_type": "execute_result",
          "data": {
            "text/plain": [
              "<matplotlib.image.AxesImage at 0x7fcc90244bd0>"
            ]
          },
          "metadata": {},
          "execution_count": 14
        },
        {
          "output_type": "display_data",
          "data": {
            "text/plain": [
              "<Figure size 432x288 with 1 Axes>"
            ],
            "image/png": "[encoded data removed]"
          },
          "metadata": {
            "needs_background": "light"
          }
        }
      ]
    },
    {
      "cell_type": "code",
      "source": [
        "print(\"There were \",len(error), \"Low-dose CT (LDCT) scans analyzed in the hold-out test set:\")\n",
        "print(\"\\n\")\n",
        "print(\"\\n\")\n",
        "print(\"The mean MSE for the LDCT scans was \", statistics.mean(noisy_error), \"+-\", statistics.stdev(noisy_error))\n",
        "print(\"The highest MSE error for  LDCT scans was \",max(noisy_error), \"and the minimum was\", min(noisy_error))\n",
        "print(\"\\n\")\n",
        "print(\"The mean MSE for the Denoised LDCT scans was \", statistics.mean(error), \"+-\", statistics.stdev(error))\n",
        "print(\"The highest MSE error for Denoised LDCT scans was \",max(error), \"and the minimum was\", min(error))"
      ],
      "metadata": {
        "colab": {
          "base_uri": "https://localhost:8080/"
        },
        "id": "HjgYLjlXun1d",
        "outputId": "f02d754b-c3c6-4385-e8b7-77a53b72be4f"
      },
      "execution_count": 15,
      "outputs": [
        {
          "output_type": "stream",
          "name": "stdout",
          "text": [
            "There were  151 Low-dose CT (LDCT) scans analyzed in the hold-out test set:\n",
            "\n",
            "\n",
            "\n",
            "\n",
            "The mean MSE for the LDCT scans was  0.0008997760696910223 +- 0.00044225782439344385\n",
            "The highest MSE error for  LDCT scans was  0.0016963450470939279 and the minimum was 2.7737585696741007e-05\n",
            "\n",
            "\n",
            "The mean MSE for the Denoised LDCT scans was  0.0011397965223681095 +- 0.0003601885857866769\n",
            "The highest MSE error for Denoised LDCT scans was  0.001889029867015779 and the minimum was 0.0001100422814488411\n"
          ]
        }
      ]
    },
    {
      "cell_type": "code",
      "source": [
        ""
      ],
      "metadata": {
        "id": "NVoxTcycunpx"
      },
      "execution_count": null,
      "outputs": []
    },
    {
      "cell_type": "code",
      "execution_count": 22,
      "metadata": {
        "id": "yza1YQr3-G4F",
        "colab": {
          "base_uri": "https://localhost:8080/"
        },
        "outputId": "f2e5712b-7edd-4394-c0a6-b81805e10702"
      },
      "outputs": [
        {
          "output_type": "stream",
          "name": "stdout",
          "text": [
            "Average MSE Loss =  0.001203673659470734\n"
          ]
        }
      ],
      "source": [
        "error, noisy_error, denoised, LDCT, image = test(model, test_loader, loss_fn,  batch_size = 1, device = None, sample_idx = 7, PATH = '/content/drive/MyDrive/CT_Project/model_patched.pt')"
      ]
    },
    {
      "cell_type": "code",
      "source": [
        "plt.imshow(image.cpu()[0][0],cmap='gray',vmin=0,vmax=1)"
      ],
      "metadata": {
        "colab": {
          "base_uri": "https://localhost:8080/",
          "height": 284
        },
        "id": "viBCnEBNo-Mj",
        "outputId": "d8e88f1b-da36-43c9-c28a-56157e07bc89"
      },
      "execution_count": 23,
      "outputs": [
        {
          "output_type": "execute_result",
          "data": {
            "text/plain": [
              "<matplotlib.image.AxesImage at 0x7f97804eb210>"
            ]
          },
          "metadata": {},
          "execution_count": 23
        },
        {
          "output_type": "display_data",
          "data": {
            "text/plain": [
              "<Figure size 432x288 with 1 Axes>"
            ],
            "image/png": "[encoded data removed]"
          },
          "metadata": {
            "needs_background": "light"
          }
        }
      ]
    },
    {
      "cell_type": "code",
      "source": [
        "plt.imshow(denoised.cpu()[0][0],cmap='gray',vmin=0,vmax=1)"
      ],
      "metadata": {
        "colab": {
          "base_uri": "https://localhost:8080/",
          "height": 284
        },
        "id": "tAXbR127o-HZ",
        "outputId": "e64f3723-cc3c-4920-c05b-a4796ca571ba"
      },
      "execution_count": 24,
      "outputs": [
        {
          "output_type": "execute_result",
          "data": {
            "text/plain": [
              "<matplotlib.image.AxesImage at 0x7f978044d990>"
            ]
          },
          "metadata": {},
          "execution_count": 24
        },
        {
          "output_type": "display_data",
          "data": {
            "text/plain": [
              "<Figure size 432x288 with 1 Axes>"
            ],
            "image/png": "[encoded data removed]"
          },
          "metadata": {
            "needs_background": "light"
          }
        }
      ]
    },
    {
      "cell_type": "code",
      "source": [
        "plt.imshow(LDCT.cpu()[0][0],cmap='gray',vmin=0,vmax=1)"
      ],
      "metadata": {
        "colab": {
          "base_uri": "https://localhost:8080/",
          "height": 284
        },
        "id": "46BviDpGo98J",
        "outputId": "07a9845f-f81c-4f5e-d10f-2ff28d5d208d"
      },
      "execution_count": 25,
      "outputs": [
        {
          "output_type": "execute_result",
          "data": {
            "text/plain": [
              "<matplotlib.image.AxesImage at 0x7f978042cfd0>"
            ]
          },
          "metadata": {},
          "execution_count": 25
        },
        {
          "output_type": "display_data",
          "data": {
            "text/plain": [
              "<Figure size 432x288 with 1 Axes>"
            ],
            "image/png": "[encoded data removed]"
          },
          "metadata": {
            "needs_background": "light"
          }
        }
      ]
    },
    {
      "cell_type": "code",
      "source": [
        "plt.imshow(image.cpu()[0][0],cmap='gray',vmin=0,vmax=1)"
      ],
      "metadata": {
        "colab": {
          "base_uri": "https://localhost:8080/",
          "height": 284
        },
        "id": "20gaYtPLoR5M",
        "outputId": "2ef38c82-0439-4982-e8b1-ed33874d61c9"
      },
      "execution_count": 19,
      "outputs": [
        {
          "output_type": "execute_result",
          "data": {
            "text/plain": [
              "<matplotlib.image.AxesImage at 0x7f97840dba90>"
            ]
          },
          "metadata": {},
          "execution_count": 19
        },
        {
          "output_type": "display_data",
          "data": {
            "text/plain": [
              "<Figure size 432x288 with 1 Axes>"
            ],
            "image/png": "[encoded data removed]"
          },
          "metadata": {
            "needs_background": "light"
          }
        }
      ]
    },
    {
      "cell_type": "code",
      "source": [
        "plt.imshow(denoised.cpu()[0][0],cmap='gray',vmin=0,vmax=1)"
      ],
      "metadata": {
        "colab": {
          "base_uri": "https://localhost:8080/",
          "height": 284
        },
        "id": "A6Z6CVqQoRyH",
        "outputId": "0d269117-e560-4217-e2cc-0bfe904d373f"
      },
      "execution_count": 20,
      "outputs": [
        {
          "output_type": "execute_result",
          "data": {
            "text/plain": [
              "<matplotlib.image.AxesImage at 0x7f97840470d0>"
            ]
          },
          "metadata": {},
          "execution_count": 20
        },
        {
          "output_type": "display_data",
          "data": {
            "text/plain": [
              "<Figure size 432x288 with 1 Axes>"
            ],
            "image/png": "[encoded data removed]"
          },
          "metadata": {
            "needs_background": "light"
          }
        }
      ]
    },
    {
      "cell_type": "code",
      "source": [
        "plt.imshow(LDCT.cpu()[0][0],cmap='gray',vmin=0,vmax=1)"
      ],
      "metadata": {
        "colab": {
          "base_uri": "https://localhost:8080/",
          "height": 284
        },
        "id": "gWwb_8XLoRp7",
        "outputId": "193d157a-90b0-4b70-ea5c-50ecbcbcb3f7"
      },
      "execution_count": 21,
      "outputs": [
        {
          "output_type": "execute_result",
          "data": {
            "text/plain": [
              "<matplotlib.image.AxesImage at 0x7f97805a98d0>"
            ]
          },
          "metadata": {},
          "execution_count": 21
        },
        {
          "output_type": "display_data",
          "data": {
            "text/plain": [
              "<Figure size 432x288 with 1 Axes>"
            ],
            "image/png": "[encoded data removed]"
          },
          "metadata": {
            "needs_background": "light"
          }
        }
      ]
    },
    {
      "cell_type": "code",
      "source": [
        ""
      ],
      "metadata": {
        "id": "MAfgJJG0oSkj"
      },
      "execution_count": null,
      "outputs": []
    },
    {
      "cell_type": "code",
      "source": [
        "error, noisy_error, denoised, LDCT, image = test(model, test_loader, loss_fn,  batch_size = 1, device = None, sample_idx = 7, PATH = '/content/drive/MyDrive/CT_Project/model_patched2.pt')"
      ],
      "metadata": {
        "id": "egl_YslxoSPE"
      },
      "execution_count": null,
      "outputs": []
    },
    {
      "cell_type": "code",
      "execution_count": null,
      "metadata": {
        "id": "USsHCHJp9QGg",
        "colab": {
          "base_uri": "https://localhost:8080/",
          "height": 284
        },
        "outputId": "9835eace-31aa-44eb-ed42-810aa1eeed86"
      },
      "outputs": [
        {
          "output_type": "execute_result",
          "data": {
            "text/plain": [
              "<matplotlib.image.AxesImage at 0x7f8c617f5290>"
            ]
          },
          "metadata": {},
          "execution_count": 24
        },
        {
          "output_type": "display_data",
          "data": {
            "text/plain": [
              "<Figure size 432x288 with 1 Axes>"
            ],
            "image/png": "[encoded data removed]"
          },
          "metadata": {
            "needs_background": "light"
          }
        }
      ],
      "source": [
        "plt.imshow(image.cpu()[0][0],cmap='gray',vmin=0,vmax=1)"
      ]
    },
    {
      "cell_type": "code",
      "execution_count": null,
      "metadata": {
        "colab": {
          "base_uri": "https://localhost:8080/",
          "height": 284
        },
        "id": "V8YdK_XBsJtl",
        "outputId": "e45b8d01-f267-41d6-dfb3-8dd421c7b494"
      },
      "outputs": [
        {
          "output_type": "execute_result",
          "data": {
            "text/plain": [
              "<matplotlib.image.AxesImage at 0x7f8c617de750>"
            ]
          },
          "metadata": {},
          "execution_count": 25
        },
        {
          "output_type": "display_data",
          "data": {
            "text/plain": [
              "<Figure size 432x288 with 1 Axes>"
            ],
            "image/png": "[encoded data removed]"
          },
          "metadata": {
            "needs_background": "light"
          }
        }
      ],
      "source": [
        "plt.imshow(denoised.cpu()[0][0],cmap='gray',vmin=0,vmax=1)"
      ]
    },
    {
      "cell_type": "code",
      "execution_count": null,
      "metadata": {
        "colab": {
          "base_uri": "https://localhost:8080/",
          "height": 284
        },
        "id": "MmUSYlPJsQEI",
        "outputId": "1173095b-fe7d-40f1-8d69-fbdd6529b201"
      },
      "outputs": [
        {
          "output_type": "execute_result",
          "data": {
            "text/plain": [
              "<matplotlib.image.AxesImage at 0x7f8c61745dd0>"
            ]
          },
          "metadata": {},
          "execution_count": 26
        },
        {
          "output_type": "display_data",
          "data": {
            "text/plain": [
              "<Figure size 432x288 with 1 Axes>"
            ],
            "image/png": "[encoded data removed]"
          },
          "metadata": {
            "needs_background": "light"
          }
        }
      ],
      "source": [
        "plt.imshow(LDCT.cpu()[0][0],cmap='gray',vmin=0,vmax=1)"
      ]
    },
    {
      "cell_type": "code",
      "execution_count": null,
      "metadata": {
        "id": "Kp2ev1cbJh7b"
      },
      "outputs": [],
      "source": [
        "print(denoised.cpu()[0][0])"
      ]
    },
    {
      "cell_type": "code",
      "execution_count": null,
      "metadata": {
        "id": "NUR-7Ia_sxKo"
      },
      "outputs": [],
      "source": [
        ""
      ]
    }
  ],
  "metadata": {
    "accelerator": "GPU",
    "colab": {
      "collapsed_sections": [],
      "name": "EEC205_LDCT_Experiment_Patched.ipynb",
      "provenance": []
    },
    "kernelspec": {
      "display_name": "Python 3",
      "name": "python3"
    },
    "language_info": {
      "name": "python"
    }
  },
  "nbformat": 4,
  "nbformat_minor": 0
}